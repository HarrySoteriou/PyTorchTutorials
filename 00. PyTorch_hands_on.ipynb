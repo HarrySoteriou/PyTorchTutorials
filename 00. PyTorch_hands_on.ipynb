{
 "cells": [
  {
   "cell_type": "markdown",
   "metadata": {},
   "source": [
    "# PyTorch hands-on Tutorials"
   ]
  },
  {
   "cell_type": "markdown",
   "metadata": {},
   "source": [
    "## PyTorch Tutorial 02 - Tensor Basics"
   ]
  },
  {
   "cell_type": "markdown",
   "metadata": {},
   "source": [
    "### Initializing a tensor with values"
   ]
  },
  {
   "cell_type": "code",
   "execution_count": 2,
   "metadata": {},
   "outputs": [],
   "source": [
    "import torch\n",
    "import numpy as np"
   ]
  },
  {
   "cell_type": "code",
   "execution_count": 7,
   "metadata": {},
   "outputs": [
    {
     "name": "stdout",
     "output_type": "stream",
     "text": [
      "tensor([1.0078]) is an empty tensor and not initialized\n"
     ]
    }
   ],
   "source": [
    "x = torch.empty(1)\n",
    "print(f\"{x} is an empty tensor and not initialized\")"
   ]
  },
  {
   "cell_type": "code",
   "execution_count": 6,
   "metadata": {},
   "outputs": [
    {
     "name": "stdout",
     "output_type": "stream",
     "text": [
      "tensor([[0.1719, 0.9470],\n",
      "        [0.6675, 0.7632]]) is a 2x2 tensor of random numbers\n",
      "tensor([[0., 0.],\n",
      "        [0., 0.]]) is a 2x2 tensor of zeros\n",
      "tensor([[1., 1.],\n",
      "        [1., 1.]]) is a 2x2 tensor of ones\n"
     ]
    }
   ],
   "source": [
    "x_rand=torch.rand(2,2)\n",
    "x_zeros=torch.zeros(2,2)\n",
    "x_ones=torch.ones(2,2)\n",
    "print(f\"{x_rand} is a 2x2 tensor of random numbers\")\n",
    "print(f\"{x_zeros} is a 2x2 tensor of zeros\")\n",
    "print(f\"{x_ones} is a 2x2 tensor of ones\")"
   ]
  },
  {
   "cell_type": "markdown",
   "metadata": {},
   "source": [
    "### Tensor properties"
   ]
  },
  {
   "cell_type": "code",
   "execution_count": 13,
   "metadata": {},
   "outputs": [
    {
     "name": "stdout",
     "output_type": "stream",
     "text": [
      "torch.float16 returns the data type\n",
      "torch.Size([2, 2]) returns the matrix size\n",
      "cpu returns the device used to perform operations\n"
     ]
    }
   ],
   "source": [
    "x=torch.rand(2,2, dtype=torch.float16)\n",
    "print(f\"{x.dtype} returns the data type\")\n",
    "print(f\"{x.size()} returns the matrix size\")\n",
    "print(f\"{x.device} returns the device used to perform operations\")"
   ]
  },
  {
   "cell_type": "markdown",
   "metadata": {},
   "source": [
    "### Tensor Element wise operations"
   ]
  },
  {
   "cell_type": "code",
   "execution_count": 20,
   "metadata": {},
   "outputs": [
    {
     "name": "stdout",
     "output_type": "stream",
     "text": [
      "Element wise addition, either by x+y or torch.add(x,y)\n",
      "tensor([[1.5366, 0.7826],\n",
      "        [0.7602, 0.5329]])\n"
     ]
    }
   ],
   "source": [
    "x = torch.rand(2,2)\n",
    "y = torch.rand(2,2)\n",
    "z1 = x + y\n",
    "print(\"Element wise addition, either by x+y or torch.add(x,y)\")\n",
    "z1 = torch.add(x,y)\n",
    "print(f\"{z1}\")"
   ]
  },
  {
   "cell_type": "code",
   "execution_count": 21,
   "metadata": {},
   "outputs": [
    {
     "name": "stdout",
     "output_type": "stream",
     "text": [
      "Element wise subtraction, either by x-y or torch.sub(x,y)\n",
      "tensor([[ 0.4398,  0.4125],\n",
      "        [-0.3239, -0.1546]])\n"
     ]
    }
   ],
   "source": [
    "print(\"Element wise subtraction, either by x-y or torch.sub(x,y)\")\n",
    "z2 = x + y\n",
    "z2 = torch.sub(x,y)\n",
    "print(f\"{z2}\")"
   ]
  },
  {
   "cell_type": "code",
   "execution_count": 22,
   "metadata": {},
   "outputs": [
    {
     "name": "stdout",
     "output_type": "stream",
     "text": [
      "Element wise multiplication, either by x*y or torch.mul(x,y)\n",
      "tensor([[0.5419, 0.1106],\n",
      "        [0.1183, 0.0650]])\n"
     ]
    }
   ],
   "source": [
    "print(\"Element wise multiplication, either by x*y or torch.mul(x,y)\")\n",
    "z3 = x * y\n",
    "z3 = torch.mul(x,y)\n",
    "print(f\"{z3}\")"
   ]
  },
  {
   "cell_type": "code",
   "execution_count": 23,
   "metadata": {},
   "outputs": [
    {
     "name": "stdout",
     "output_type": "stream",
     "text": [
      "Element wise division, either by x/y or torch.div(x,y)\n",
      "tensor([[1.8021, 3.2294],\n",
      "        [0.4025, 0.5502]])\n"
     ]
    }
   ],
   "source": [
    "print(f\"Element wise division, either by x/y or torch.div(x,y)\")\n",
    "z4 = x / y\n",
    "z4 = torch.div(x,y)\n",
    "print(f\"{z4}\")"
   ]
  },
  {
   "cell_type": "markdown",
   "metadata": {},
   "source": [
    "### Tensor slicing"
   ]
  },
  {
   "cell_type": "code",
   "execution_count": 21,
   "metadata": {},
   "outputs": [
    {
     "name": "stdout",
     "output_type": "stream",
     "text": [
      "tensor([[0.4604, 0.6807, 0.7354],\n",
      "        [0.4883, 0.9258, 0.6992],\n",
      "        [0.6147, 0.0610, 0.4863],\n",
      "        [0.9785, 0.1011, 0.8472],\n",
      "        [0.7676, 0.2988, 0.8057]], dtype=torch.float16)\n",
      "\n",
      "Slicing the second row\n",
      "tensor([0.4883, 0.9258, 0.6992], dtype=torch.float16)\n"
     ]
    }
   ],
   "source": [
    "t = torch.rand(5,3, dtype=torch.float16)\n",
    "print(t)\n",
    "print(\"\")\n",
    "print(\"Slicing the second row\")\n",
    "print(t[1,:])"
   ]
  },
  {
   "cell_type": "code",
   "execution_count": 22,
   "metadata": {},
   "outputs": [
    {
     "name": "stdout",
     "output_type": "stream",
     "text": [
      "Slicing the 5th row, 2nd column item, then extracting the value\n",
      "tensor(0.2988, dtype=torch.float16)\n",
      "0.298828125\n"
     ]
    }
   ],
   "source": [
    "print(\"Slicing the 5th row, 2nd column item, then extracting the value\")\n",
    "print(t[4,1])\n",
    "print(t[4,1].item())"
   ]
  },
  {
   "cell_type": "markdown",
   "metadata": {},
   "source": [
    "### Resizing Tensors"
   ]
  },
  {
   "cell_type": "code",
   "execution_count": 5,
   "metadata": {},
   "outputs": [
    {
     "name": "stdout",
     "output_type": "stream",
     "text": [
      "tensor([[0.0478, 0.4924, 0.1920, 0.5781],\n",
      "        [0.7363, 0.1883, 0.7280, 0.3224],\n",
      "        [0.9769, 0.9024, 0.8114, 0.6090]])\n",
      "tensor([[0.0478, 0.4924, 0.1920],\n",
      "        [0.5781, 0.7363, 0.1883],\n",
      "        [0.7280, 0.3224, 0.9769],\n",
      "        [0.9024, 0.8114, 0.6090]])\n",
      "tensor([0.0478, 0.4924, 0.1920, 0.5781, 0.7363, 0.1883, 0.7280, 0.3224, 0.9769,\n",
      "        0.9024, 0.8114, 0.6090])\n"
     ]
    }
   ],
   "source": [
    "f = torch.rand(3,4)\n",
    "print(f)\n",
    "f1 = f.view(4,3)\n",
    "print(f1)\n",
    "f2 = f.view(-1)\n",
    "print(f2)"
   ]
  },
  {
   "cell_type": "markdown",
   "metadata": {},
   "source": [
    "When using -1 as dimension, the multidimensional tensor is transformed to a 1D-row vector that fits the appropriate size automatically "
   ]
  },
  {
   "cell_type": "markdown",
   "metadata": {},
   "source": [
    "### Numpy Arrays to PyTorch tensors"
   ]
  },
  {
   "cell_type": "code",
   "execution_count": 8,
   "metadata": {},
   "outputs": [
    {
     "name": "stdout",
     "output_type": "stream",
     "text": [
      "cpu\n",
      "tensor([1., 1., 1., 1.], device='cuda:0', dtype=torch.float64)\n",
      "tensor([1., 1., 1., 1.], device='cuda:0')\n",
      "tensor([2., 2., 2., 2.], device='cuda:0', dtype=torch.float64)\n"
     ]
    }
   ],
   "source": [
    "from matplotlib.style import available\n",
    "a = np.ones(4)\n",
    "b = torch.from_numpy(a)\n",
    "print(b.device)\n",
    "if torch.cuda.is_available():\n",
    "    device=torch.device(\"cuda\")\n",
    "b = b.to(device)\n",
    "c = torch.ones(4, device=device)\n",
    "print(b)\n",
    "print(c)\n",
    "print(b+c)"
   ]
  },
  {
   "cell_type": "markdown",
   "metadata": {},
   "source": [
    "We can move a tensor to the GPU by using   \n",
    "a) tensor_name = tensor_name.to(torch.device(\"cuda\"))  \n",
    "b) tensord_name = torch.tensor(size, device=\"cuda\")"
   ]
  },
  {
   "cell_type": "markdown",
   "metadata": {},
   "source": [
    "## PyTorch Tutorial 03 - Gradient Calculation with Autograd\n"
   ]
  },
  {
   "cell_type": "markdown",
   "metadata": {},
   "source": [
    "### Gradient Calculation with Autograd"
   ]
  },
  {
   "cell_type": "code",
   "execution_count": 30,
   "metadata": {},
   "outputs": [
    {
     "name": "stdout",
     "output_type": "stream",
     "text": [
      "tensor([0.2271, 0.3016, 0.9031], requires_grad=True)\n"
     ]
    }
   ],
   "source": [
    "x = torch.rand(3, requires_grad=True)\n",
    "print(x)"
   ]
  },
  {
   "cell_type": "markdown",
   "metadata": {},
   "source": [
    "We are creating a graph that keeps track of the gradients\n",
    "of x, so we can run backpropagation later"
   ]
  },
  {
   "cell_type": "code",
   "execution_count": 31,
   "metadata": {},
   "outputs": [
    {
     "name": "stdout",
     "output_type": "stream",
     "text": [
      "tensor([2.2271, 2.3016, 2.9031], grad_fn=<AddBackward0>)\n",
      "tensor(12.4571, grad_fn=<MeanBackward0>)\n",
      "tensor([2.9695, 3.0688, 3.8708])\n"
     ]
    }
   ],
   "source": [
    "y = x + 2\n",
    "print(y)\n",
    "z = y*y*2\n",
    "z = z.mean()\n",
    "print(z)\n",
    "z.backward() #dz = dz/dy * dy/dx\n",
    "print(x.grad)"
   ]
  },
  {
   "cell_type": "markdown",
   "metadata": {},
   "source": [
    "Here we demonstrate that variables that depend on tensor x\n",
    "carry the gradients and each operation has a relative backward operation."
   ]
  },
  {
   "cell_type": "code",
   "execution_count": 32,
   "metadata": {},
   "outputs": [
    {
     "name": "stdout",
     "output_type": "stream",
     "text": [
      "tensor([2.2271, 2.3016, 2.9031], grad_fn=<AddBackward0>)\n",
      "tensor([ 3.8601, 12.2753,  3.8824])\n"
     ]
    }
   ],
   "source": [
    "y = x + 2\n",
    "print(y)\n",
    "f = y*y*2\n",
    "v = torch.tensor([0.1, 1.0, 0.001], dtype=torch.float16)\n",
    "f.backward(v)\n",
    "print(x.grad)"
   ]
  },
  {
   "cell_type": "markdown",
   "metadata": {},
   "source": [
    "If z is not a scalar value we need to pass the vector of values that need to be packpropagated"
   ]
  },
  {
   "cell_type": "markdown",
   "metadata": {},
   "source": [
    "### Disabling the gradient"
   ]
  },
  {
   "cell_type": "code",
   "execution_count": 33,
   "metadata": {},
   "outputs": [
    {
     "name": "stdout",
     "output_type": "stream",
     "text": [
      "tensor([0.4776, 0.2055, 0.5134], requires_grad=True)\n",
      "tensor([0.4776, 0.2055, 0.5134])\n"
     ]
    }
   ],
   "source": [
    "x = torch.rand(3, requires_grad=True)\n",
    "print(x)\n",
    "#x.requires_grad_(False) # in-place operation ->NOT PREFERED\n",
    "y = x.detach()\n",
    "print(y)\n",
    "# with torch.no_grad():"
   ]
  },
  {
   "cell_type": "code",
   "execution_count": 34,
   "metadata": {},
   "outputs": [
    {
     "name": "stdout",
     "output_type": "stream",
     "text": [
      "tensor([3., 3., 3.])\n",
      "tensor([3., 3., 3.])\n",
      "tensor([3., 3., 3.])\n"
     ]
    }
   ],
   "source": [
    "for epoch in range(3):\n",
    "    model_out = (x*3).sum()\n",
    "    model_out.backward()\n",
    "    print(x.grad)\n",
    "    x.grad.zero_()"
   ]
  },
  {
   "cell_type": "markdown",
   "metadata": {},
   "source": [
    "When oprimizing our weights, at the end of each iteration we need to reset them as to not carry over previous values that will interfere with our calculations"
   ]
  },
  {
   "cell_type": "markdown",
   "metadata": {},
   "source": [
    "## PyTorch Tutorial 04 - Backpropagation - Theory with Example\n"
   ]
  },
  {
   "cell_type": "markdown",
   "metadata": {},
   "source": [
    "### Backpropagation"
   ]
  },
  {
   "cell_type": "code",
   "execution_count": 24,
   "metadata": {},
   "outputs": [
    {
     "name": "stdout",
     "output_type": "stream",
     "text": [
      "tensor(1., grad_fn=<PowBackward0>)\n",
      "tensor(-2.)\n"
     ]
    }
   ],
   "source": [
    "x1 = torch.tensor(1.0)\n",
    "y = torch.tensor(2.0)\n",
    "w = torch.tensor(1.0, requires_grad=True)\n",
    "\n",
    "# forward pass and loss computation\n",
    "y_hat = w*x1\n",
    "loss =(y_hat - y)**2\n",
    "print(loss)\n",
    "\n",
    "# backward pass\n",
    "loss.backward()\n",
    "print(w.grad)"
   ]
  },
  {
   "cell_type": "markdown",
   "metadata": {},
   "source": [
    "When backpropagating tensors that require gradient are optimized for, using the chain rule, whereas others that don't have a gradient are treated as constants"
   ]
  },
  {
   "cell_type": "markdown",
   "metadata": {},
   "source": [
    "### Manual implementation of a NN including: forward pass, loss, gradient, backward pass using Numpy.  "
   ]
  },
  {
   "cell_type": "code",
   "execution_count": 34,
   "metadata": {},
   "outputs": [],
   "source": [
    "X = np.array([1,2,3,4], dtype = np.float16)\n",
    "Y = np.array([2,4,6,8], dtype = np.float16)\n",
    "w = 0.0\n",
    "\n",
    "# model prediction\n",
    "def forward(x):\n",
    "    return w*x \n",
    "\n",
    "# loss = MSE\n",
    "def loss(y, y_predicted):\n",
    "    return ((y_predicted-y)**2).mean()\n",
    "\n",
    "# gradient\n",
    "# MSE = 1/N * (w*x - y)**2\n",
    "# dJ/dw = 1/N * 2 (w*x - y)\n",
    "def gradient(x, y, y_predicted):\n",
    "    return np.dot(2*x, y_predicted-y).mean()"
   ]
  },
  {
   "cell_type": "code",
   "execution_count": 35,
   "metadata": {},
   "outputs": [
    {
     "name": "stdout",
     "output_type": "stream",
     "text": [
      "Prediction before training: f(5) = 0.000\n",
      "epoch 1: w = 1.200, loss = 30.00000000\n",
      "epoch 2: w = 1.680, loss = 4.79687500\n",
      "epoch 3: w = 1.872, loss = 0.76953125\n",
      "epoch 4: w = 1.949, loss = 0.12255859\n",
      "epoch 5: w = 1.980, loss = 0.02015686\n",
      "epoch 6: w = 1.992, loss = 0.00318527\n",
      "epoch 7: w = 1.997, loss = 0.00045776\n",
      "epoch 8: w = 1.998, loss = 0.00006032\n",
      "epoch 9: w = 2.000, loss = 0.00003529\n",
      "epoch 10: w = 2.000, loss = 0.00000000\n",
      "Prediction after training: f(5) = 9.999\n"
     ]
    }
   ],
   "source": [
    "print(f\"Prediction before training: f(5) = {forward(5):.3f}\")\n",
    "learning_rate = 0.01\n",
    "n_iters = 10\n",
    "\n",
    "for epoch in range(n_iters):\n",
    "    # prediction = forward pass\n",
    "    y_pred = forward(X)\n",
    "\n",
    "    # loss\n",
    "    l=loss(Y, y_pred)\n",
    "\n",
    "    # gradients\n",
    "    dw = gradient(X, Y, y_pred)\n",
    "\n",
    "    #update weights\n",
    "    w-= learning_rate * dw\n",
    "    if epoch % 1 == 0:\n",
    "        print(f\"epoch {epoch + 1}: w = {w:.3f}, loss = {l:.8f}\")\n",
    "\n",
    "print(f\"Prediction after training: f(5) = {forward(5):.3f}\")\n"
   ]
  },
  {
   "cell_type": "markdown",
   "metadata": {},
   "source": [
    "## PyTorch Tutorial 05 - Gradient Descent with Autograd and Backpropagation\n"
   ]
  },
  {
   "cell_type": "markdown",
   "metadata": {},
   "source": [
    "### Stochastic Gradient Descent with Backporpagation using Autograd in PyTorch"
   ]
  },
  {
   "cell_type": "code",
   "execution_count": 41,
   "metadata": {},
   "outputs": [
    {
     "name": "stdout",
     "output_type": "stream",
     "text": [
      "Prediction before training: f(5) = 0.000\n",
      "epoch 1: w = 0.300, loss = 30.00000000\n",
      "epoch 6: w = 1.245, loss = 5.91015625\n",
      "epoch 11: w = 1.665, loss = 1.16113281\n",
      "epoch 16: w = 1.852, loss = 0.22888184\n",
      "epoch 21: w = 1.934, loss = 0.04577637\n",
      "epoch 26: w = 1.970, loss = 0.00926971\n",
      "epoch 31: w = 1.986, loss = 0.00183105\n",
      "epoch 36: w = 1.994, loss = 0.00034070\n",
      "epoch 41: w = 1.997, loss = 0.00006032\n",
      "Prediction after training: f(5) = 9.984\n"
     ]
    }
   ],
   "source": [
    "X = torch.tensor([1,2,3,4], dtype = torch.float16)\n",
    "Y = torch.tensor([2,4,6,8], dtype = torch.float16)\n",
    "w = torch.tensor(0.0, dtype = torch.float16, requires_grad=True)\n",
    "\n",
    "# model prediction\n",
    "def forward(x):\n",
    "    return w*x \n",
    "\n",
    "# loss = MSE\n",
    "def loss(y, y_predicted):\n",
    "    return ((y_predicted-y)**2).mean()\n",
    "\n",
    "print(f\"Prediction before training: f(5) = {forward(5):.3f}\")\n",
    "learning_rate = 0.01\n",
    "n_iters = 41\n",
    "\n",
    "for epoch in range(n_iters):\n",
    "    # prediction = forward pass\n",
    "    y_pred = forward(X)\n",
    "\n",
    "    # loss\n",
    "    l=loss(Y, y_pred)\n",
    "\n",
    "    # gradients = backward pass\n",
    "    l.backward()\n",
    "    \n",
    "    #update weights\n",
    "    with torch.no_grad():\n",
    "        w-= learning_rate * w.grad\n",
    "    \n",
    "    # zero gradients\n",
    "    w.grad.zero_()\n",
    "    if epoch % 5 == 0:\n",
    "        print(f\"epoch {epoch + 1}: w = {w:.3f}, loss = {l:.8f}\")\n",
    "\n",
    "print(f\"Prediction after training: f(5) = {forward(5):.3f}\")"
   ]
  },
  {
   "cell_type": "markdown",
   "metadata": {},
   "source": [
    "## PyTorch Tutorial 06 - Training Pipeline: Model, Loss and Optimizer   "
   ]
  },
  {
   "cell_type": "markdown",
   "metadata": {},
   "source": [
    "### Complete PyTorch Pipeline: Model, Loss and Optimizer   \n",
    "Prediction: PyTorch Model  \n",
    "Gradient Computation: Autograd  \n",
    "Loss Computation: PyTorch Loss  \n",
    "Parameter updates: PyTorch Optimizer"
   ]
  },
  {
   "cell_type": "code",
   "execution_count": 4,
   "metadata": {},
   "outputs": [
    {
     "name": "stdout",
     "output_type": "stream",
     "text": [
      "4 1\n",
      "[('lin.weight', Parameter containing:\n",
      "tensor([[-0.8817]], device='cuda:0', requires_grad=True)), ('lin.bias', Parameter containing:\n",
      "tensor([-0.8608], device='cuda:0', requires_grad=True))]\n"
     ]
    },
    {
     "ename": "SystemExit",
     "evalue": "",
     "output_type": "error",
     "traceback": [
      "An exception has occurred, use %tb to see the full traceback.\n",
      "\u001b[1;31mSystemExit\u001b[0m\n"
     ]
    },
    {
     "name": "stderr",
     "output_type": "stream",
     "text": [
      "c:\\Users\\Harry Soteriou\\miniconda3\\lib\\site-packages\\IPython\\core\\interactiveshell.py:3449: UserWarning: To exit: use 'exit', 'quit', or Ctrl-D.\n",
      "  warn(\"To exit: use 'exit', 'quit', or Ctrl-D.\", stacklevel=1)\n"
     ]
    }
   ],
   "source": [
    "\"\"\"\n",
    "1. Design model (input, output size, forward pass)\n",
    "2. Construct loss and optimizer\n",
    "3, Training loop\n",
    "    -forward pass: compute predition\n",
    "    -backward pass: gradients\n",
    "    -update weights\n",
    "\"\"\"\n",
    "import torch \n",
    "import torch.nn as nn\n",
    "\n",
    "X = torch.tensor([[1],[2],[3],[4]], dtype = torch.float32, device=\"cuda\")\n",
    "Y = torch.tensor([[2],[4],[6],[8]], dtype = torch.float32, device=\"cuda\")\n",
    "\n",
    "X_test = torch.tensor([5], dtype = torch.float32, device=\"cuda\")\n",
    "\n",
    "n_samples, n_features = X.shape\n",
    "print(n_samples, n_features)\n",
    "\n",
    "input_size = n_features\n",
    "output_size = n_features\n",
    "\n",
    "#model = nn.Linear(in_features=input_size, out_features=output_size).to(device=\"cuda\")\n",
    "\n",
    "class LinearRegression(nn.Module):\n",
    "    def __init__(self, input_dim, output_dim):\n",
    "        super(LinearRegression, self).__init__()\n",
    "        # define layers\n",
    "        self.lin = nn.Linear(input_dim, output_dim)\n",
    "    \n",
    "    def forward(self, x):\n",
    "        return self.lin(x)\n",
    "\n",
    "model = LinearRegression(input_size, output_size).to(device=\"cuda\")\n",
    "print(f\"Prediction before training: f(5) = {model(X_test).item():.3f}\")\n",
    "learning_rate = 0.01\n",
    "n_iters = 51\n",
    "loss = nn.MSELoss()\n",
    "optimizer = torch.optim.SGD(model.parameters(), lr=learning_rate)\n",
    "\n",
    "for epoch in range(n_iters):\n",
    "    # prediction = forward pass\n",
    "    y_pred = model(X)\n",
    "\n",
    "    # loss\n",
    "    l=loss(Y, y_pred)\n",
    "\n",
    "    # gradients = backward pass\n",
    "    l.backward()\n",
    "    \n",
    "    #update weights\n",
    "    optimizer.step()\n",
    "    \n",
    "    # zero gradients\n",
    "    optimizer.zero_grad()\n",
    "\n",
    "    if epoch % 5 == 0:\n",
    "        [w,b] = model.parameters()\n",
    "        print(f\"epoch {epoch + 1}: w = {w[0][0].item():.3f}, loss = {l:.8f}\")\n",
    "\n",
    "print(f\"Prediction after training: f(5) = {model(X_test).item():.3f}\")\n"
   ]
  },
  {
   "cell_type": "markdown",
   "metadata": {},
   "source": [
    "## PyTorch Tutorial 07 - Linear Regression "
   ]
  },
  {
   "cell_type": "markdown",
   "metadata": {},
   "source": [
    "### Implementing a Linear Regression model from scratch"
   ]
  },
  {
   "cell_type": "code",
   "execution_count": 5,
   "metadata": {},
   "outputs": [
    {
     "name": "stdout",
     "output_type": "stream",
     "text": [
      "epoch: 10, loss =582.9234\n",
      "epoch: 20, loss =341.1050\n",
      "epoch: 30, loss =332.8644\n",
      "epoch: 40, loss =332.5780\n",
      "epoch: 50, loss =332.5679\n",
      "epoch: 60, loss =332.5676\n",
      "epoch: 70, loss =332.5676\n",
      "epoch: 80, loss =332.5676\n",
      "epoch: 90, loss =332.5676\n",
      "epoch: 100, loss =332.5676\n"
     ]
    },
    {
     "data": {
      "image/png": "[encoded data removed]",
      "text/plain": [
       "<Figure size 432x288 with 1 Axes>"
      ]
     },
     "metadata": {
      "needs_background": "light"
     },
     "output_type": "display_data"
    }
   ],
   "source": [
    "\"\"\"\n",
    "0. Data preparation and pre-processing\n",
    "1. Design model (input, output size, forward pass)\n",
    "2. Construct loss and optimizer\n",
    "3, Training loop\n",
    "    -forward pass: compute predition\n",
    "    -backward pass: gradients\n",
    "    -update weights\n",
    "\"\"\"\n",
    "import torch\n",
    "import torch.nn as nn\n",
    "import torch.optim as optim\n",
    "import numpy as np\n",
    "from sklearn import datasets\n",
    "import matplotlib.pyplot as plt\n",
    "\n",
    "# 0. DATA PREPARATION\n",
    "X_numpy, y_numpy = datasets.make_regression(n_samples=100, n_features=1, noise = 20, random_state=1)\n",
    "X = torch.from_numpy(X_numpy.astype(np.float32))\n",
    "y = torch.from_numpy(y_numpy.astype(np.float32))\n",
    "y = y.view(y.shape[0], 1)\n",
    "\n",
    "n_samples, n_features = X.shape \n",
    "# n_samples -> how many rows/groups of data\n",
    "#n_features -> how many numbers/features in each row\n",
    "input_dim = n_features\n",
    "out_dim = 1\n",
    "\n",
    "device=\"cuda\"\n",
    "learning_rate = 0.1\n",
    "n_iters = 100\n",
    "\n",
    "X_test= torch.tensor(9, dtype=torch.float32, requires_grad=True, device=device)\n",
    "\n",
    "# 1. DEFINE MODEL\n",
    "model =nn.Linear(in_features=input_dim, out_features=out_dim)\n",
    "\n",
    "# 2. LOSS AND OPTIMIZER\n",
    "loss_fn = nn.MSELoss()\n",
    "optimizer = optim.SGD(model.parameters(), lr=learning_rate)\n",
    "\n",
    "# 3. TRAINING LOOP AND WEIGHT UPDATE\n",
    "for epoch in range(n_iters):\n",
    "    # forward pass and loss\n",
    "    y_predicted = model(X)\n",
    "    loss = loss_fn(y_predicted, y)\n",
    "\n",
    "    # backward pass\n",
    "    loss.backward()\n",
    "\n",
    "    # weight update and reset\n",
    "    optimizer.step()\n",
    "    optimizer.zero_grad()\n",
    "    if (epoch + 1) % 10 ==0:\n",
    "        print(f\"epoch: {epoch+1}, loss ={loss.item():.4f}\")\n",
    "# plot\n",
    "predicted = model(X).detach().numpy()\n",
    "plt.plot(X_numpy, y_numpy, 'ro')\n",
    "plt.plot(X_numpy, predicted, 'b')\n",
    "plt.show()"
   ]
  },
  {
   "cell_type": "markdown",
   "metadata": {},
   "source": [
    "## PyTorch Tutorial 08 - Logistic Regression "
   ]
  },
  {
   "cell_type": "markdown",
   "metadata": {},
   "source": [
    "### Implementing a Logistic Regression model from scratch"
   ]
  },
  {
   "cell_type": "code",
   "execution_count": 20,
   "metadata": {},
   "outputs": [
    {
     "name": "stdout",
     "output_type": "stream",
     "text": [
      "epoch: 10, loss: 0.2423\n",
      "epoch: 20, loss: 0.1766\n",
      "epoch: 30, loss: 0.1469\n",
      "epoch: 40, loss: 0.1293\n",
      "epoch: 50, loss: 0.1175\n",
      "epoch: 60, loss: 0.1088\n",
      "epoch: 70, loss: 0.1022\n",
      "epoch: 80, loss: 0.0969\n",
      "epoch: 90, loss: 0.0926\n",
      "epoch: 100, loss: 0.0889\n",
      "Accuracy equals: 0.930\n"
     ]
    }
   ],
   "source": [
    "\"\"\"\n",
    "0. Data preparation and pre-processing\n",
    "1. Design model (input, output size, forward pass)\n",
    "2. Construct loss and optimizer\n",
    "3, Training loop\n",
    "    -forward pass: compute predition\n",
    "    -backward pass: gradients\n",
    "    -update weights\n",
    "\"\"\"\n",
    "import sklearn\n",
    "import torch\n",
    "import torch.nn as nn\n",
    "import torch.optim as optim\n",
    "import numpy as np\n",
    "from sklearn import datasets\n",
    "from sklearn.preprocessing import StandardScaler\n",
    "from sklearn.model_selection import train_test_split\n",
    "import matplotlib.pyplot as plt\n",
    "\n",
    "device=\"cuda\"\n",
    "learning_rate = 0.1\n",
    "n_iters = 100\n",
    "\n",
    "# 0. DATA PREPARATION\n",
    "bc = datasets.load_breast_cancer()\n",
    "X, y = bc.data, bc.target\n",
    "\n",
    "n_samples, n_features = X.shape # samples -> rows, features -> columns \n",
    "\n",
    "X_train, X_test, y_train, y_test = train_test_split(X, y, test_size=0.2, random_state=1234)\n",
    "\n",
    "sc = StandardScaler() # mean = 0, variance = 1\n",
    "X_train = sc.fit_transform(X_train)\n",
    "X_test = sc.transform(X_test)\n",
    "\n",
    "X_train = torch.from_numpy(X_train.astype(np.float32))\n",
    "X_test = torch.from_numpy(X_test.astype(np.float32))\n",
    "y_train = torch.from_numpy(y_train.astype(np.float32))\n",
    "y_test = torch.from_numpy(y_test.astype(np.float32))\n",
    "\n",
    "y_train = y_train.view(y_train.shape[0], 1)\n",
    "y_test = y_test.view(y_test.shape[0], 1)\n",
    "\n",
    "\n",
    "# 1. DEFINE MODEL\n",
    "# Logistic Regression: f(x) = sigmoid(w*x +b)\n",
    "\n",
    "class LogisticRegression(nn.Module):\n",
    "\n",
    "    def __init__(self, in_features):\n",
    "        super(LogisticRegression, self).__init__()\n",
    "        self.linear = nn.Linear(in_features, 1)\n",
    "        \n",
    "    def forward(self, x):\n",
    "        y_predicted = torch.sigmoid(self.linear(x)) \n",
    "        return y_predicted\n",
    "\n",
    "model = LogisticRegression(in_features = n_features)\n",
    "\n",
    "# 2. LOSS AND OPTIMIZER\n",
    "loss_fn = nn.BCELoss()\n",
    "optimizer = optim.SGD(model.parameters(), lr=learning_rate)\n",
    "\n",
    "# 3. TRAINING LOOP AND WEIGHT UPDATE\n",
    "for epoch in range(n_iters):\n",
    "    # forward pass and loss\n",
    "    y_predicted = model(X_train)\n",
    "    loss = loss_fn(y_predicted, y_train)\n",
    "\n",
    "    # backward pass\n",
    "    loss.backward()\n",
    "\n",
    "    # weight update and reset\n",
    "    optimizer.step()\n",
    "    optimizer.zero_grad()\n",
    "    if (epoch + 1) % 10 == 0:\n",
    "        print(f\"epoch: {epoch+1}, loss: {loss.item():.4f}\")\n",
    "# plot\n",
    "with torch.no_grad():\n",
    "    y_predicted = model(X_test)\n",
    "    y_predicted_cls = y_predicted.round()\n",
    "    acc = y_predicted_cls.eq(y_test).sum() / float(y_test.shape[0])\n",
    "    print(f\"Accuracy equals: {acc:.3f}\")"
   ]
  },
  {
   "cell_type": "markdown",
   "metadata": {},
   "source": [
    "## PyTorch Tutorial 09 - Dataset and DataLoader - Batch Training "
   ]
  },
  {
   "cell_type": "markdown",
   "metadata": {},
   "source": [
    "epoch = 1 forward and backward pass of ALL training samples  \n",
    "batch_size = number of training samples in one forward & backward pass  \n",
    "number of iterations = number of passes, each pass using [batch_size] number of samples  \n",
    "e.g. 100 samples, batch_size=20 --> 100/20 = 5 iterations for 1 epoch"
   ]
  },
  {
   "cell_type": "code",
   "execution_count": 122,
   "metadata": {},
   "outputs": [],
   "source": [
    "import torch\n",
    "import torchvision\n",
    "from torch.utils.data import Dataset, DataLoader\n",
    "import numpy as np\n",
    "import math\n",
    "import pandas as pd"
   ]
  },
  {
   "cell_type": "code",
   "execution_count": 142,
   "metadata": {},
   "outputs": [],
   "source": [
    "class WineDataset(Dataset):\n",
    "    def __init__(self):\n",
    "        # data loading\n",
    "        xy = np.loadtxt(\"./data/wine/wine.csv\", delimiter =\",\", dtype = np.float32, skiprows=1)\n",
    "        self.x = torch.from_numpy(xy[:,1:])\n",
    "        self.y = torch.from_numpy(xy[:,[0]])\n",
    "        self.n_samples = xy.shape[0]\n",
    "    \n",
    "    def __getitem__(self, index):\n",
    "        return self.x[index], self.y[index] \n",
    "    \n",
    "    def __len__(self):\n",
    "        return self.n_samples\n",
    "\n",
    "\n",
    "dataset = WineDataset()\n",
    "batch_size = 4\n",
    "dataloader = DataLoader(dataset=dataset, batch_size=batch_size, shuffle=True, num_workers=0)\n",
    "## WHEN CHANGING NUMBER OF NUM_WORKERS >0 IT SPITS OUT AN ERROR AND I DONT KNOW WHY\n",
    "num_epochs = 2\n",
    "total_samples = len(dataset)\n",
    "n_iterations = math.ceil(total_samples/batch_size)"
   ]
  },
  {
   "cell_type": "markdown",
   "metadata": {},
   "source": [
    "Dataset module is not that important as long as you can transform the data into tensors. The important thing here is the Dataloader module which allows to create batches and data shuffling"
   ]
  },
  {
   "cell_type": "code",
   "execution_count": 144,
   "metadata": {},
   "outputs": [
    {
     "name": "stdout",
     "output_type": "stream",
     "text": [
      "Total samples are: 178, number of iterations are: 45\n",
      "epoch 1/2, step 5/45, inputs torch.Size([4, 13])\n",
      "epoch 1/2, step 10/45, inputs torch.Size([4, 13])\n",
      "epoch 1/2, step 15/45, inputs torch.Size([4, 13])\n",
      "epoch 1/2, step 20/45, inputs torch.Size([4, 13])\n",
      "epoch 1/2, step 25/45, inputs torch.Size([4, 13])\n",
      "epoch 1/2, step 30/45, inputs torch.Size([4, 13])\n",
      "epoch 1/2, step 35/45, inputs torch.Size([4, 13])\n",
      "epoch 1/2, step 40/45, inputs torch.Size([4, 13])\n",
      "epoch 1/2, step 45/45, inputs torch.Size([2, 13])\n",
      "epoch 2/2, step 5/45, inputs torch.Size([4, 13])\n",
      "epoch 2/2, step 10/45, inputs torch.Size([4, 13])\n",
      "epoch 2/2, step 15/45, inputs torch.Size([4, 13])\n",
      "epoch 2/2, step 20/45, inputs torch.Size([4, 13])\n",
      "epoch 2/2, step 25/45, inputs torch.Size([4, 13])\n",
      "epoch 2/2, step 30/45, inputs torch.Size([4, 13])\n",
      "epoch 2/2, step 35/45, inputs torch.Size([4, 13])\n",
      "epoch 2/2, step 40/45, inputs torch.Size([4, 13])\n",
      "epoch 2/2, step 45/45, inputs torch.Size([2, 13])\n"
     ]
    }
   ],
   "source": [
    "# training loop\n",
    "print(f\"Total samples are: {total_samples}, number of iterations are: {n_iterations}\")\n",
    "for epoch in range(num_epochs):\n",
    "    for i, (inputs, labels) in enumerate(dataloader):\n",
    "        # forwqrd, bqck3qrd pass and weight update\n",
    "        if (i+1)% 5 == 0:\n",
    "            print(f'epoch {epoch+1}/{num_epochs}, step {i+1}/{n_iterations}, inputs {inputs.shape}')"
   ]
  },
  {
   "cell_type": "markdown",
   "metadata": {},
   "source": [
    "## PyTorch Tutorial 10 - DataSet Transforms"
   ]
  },
  {
   "cell_type": "markdown",
   "metadata": {},
   "source": [
    "The takeaway from this tutorial is how we can create our custom transform methods and use the dunder __call__ method to apply the transform without creating a specific object"
   ]
  },
  {
   "cell_type": "code",
   "execution_count": null,
   "metadata": {},
   "outputs": [],
   "source": [
    "import torch\n",
    "import torchvision"
   ]
  },
  {
   "cell_type": "code",
   "execution_count": null,
   "metadata": {},
   "outputs": [],
   "source": [
    "class WineDataset(Dataset):\n",
    "    def __init__(self, transform=None):\n",
    "        # data loading\n",
    "        xy = np.loadtxt(\"./data/wine/wine.csv\", delimiter =\",\", dtype = np.float32, skiprows=1)\n",
    "        self.n_samples = xy.shape[0]\n",
    "\n",
    "        self.x = xy[:,1:]\n",
    "        self.y = xy[:,[0]]\n",
    "        \n",
    "        self.transform = transform\n",
    "    \n",
    "    def __getitem__(self, index):\n",
    "        sample = self.x[index], self.y[index] \n",
    "\n",
    "        if self.transform:\n",
    "            sample = self.transform(sample)\n",
    "\n",
    "        return sample\n",
    "\n",
    "    def __len__(self):\n",
    "        return self.n_samples\n",
    "\n",
    "\n",
    "class ToTensor():\n",
    "    def __call__(self, sample):\n",
    "        inputs, targets = sample\n",
    "        return torch.from_numpy(inputs), torch.from_numpy(targets)\n",
    "\n",
    "class MulTransform:\n",
    "    \"\"\"\n",
    "    Example of a custom transform to show how to write a transform function\n",
    "    \"\"\"\n",
    "    def __init__(self, factor):\n",
    "        self.factor = factor\n",
    "\n",
    "    def __call__(self, sample):\n",
    "        inputs, targets = sample\n",
    "        inputs *=self.factor\n",
    "        return inputs, targets\n",
    "\n",
    "composed = torchvision.transforms.Compose([ToTensor(), MulTransform(2)])\n",
    "dataset = WineDataset(transform=composed)\n",
    "batch_size = 4"
   ]
  },
  {
   "cell_type": "markdown",
   "metadata": {},
   "source": [
    "Another takeaway: transforms.Compose(), can take a list of transforms and use them to apply various transforms sequentially"
   ]
  },
  {
   "cell_type": "markdown",
   "metadata": {},
   "source": [
    "## PyTorch Tutorial 11 - Softmax and Cross-Entropy"
   ]
  },
  {
   "cell_type": "code",
   "execution_count": 41,
   "metadata": {},
   "outputs": [],
   "source": [
    "import torch \n",
    "import torch.nn as nn \n",
    "from torchvision import datasets, transforms\n",
    "from torch.utils.data import DataLoader\n",
    "from torch import optim\n",
    "import numpy as np\n",
    "import math"
   ]
  },
  {
   "cell_type": "code",
   "execution_count": 42,
   "metadata": {},
   "outputs": [
    {
     "name": "stdout",
     "output_type": "stream",
     "text": [
      "softmax numpy: [0.65900114 0.24243297 0.09856589]\n",
      "torch softmax outputs: tensor([0.6590, 0.2424, 0.0986])\n"
     ]
    }
   ],
   "source": [
    "def softmax(x):\n",
    "    return np.exp(x)/np.sum(np.exp(x), axis = 0)\n",
    "\n",
    "x=np.array([2.0, 1.0, 0.1])\n",
    "outputs =softmax(x)\n",
    "print(f\"softmax numpy: {outputs}\")\n",
    "\n",
    "x1 = torch.tensor([2.0, 1.0, 0.1], dtype=torch.float32)\n",
    "outputs1 = torch.softmax(x1, dim=0)\n",
    "print(f\"torch softmax outputs: {outputs1}\")"
   ]
  },
  {
   "cell_type": "code",
   "execution_count": 43,
   "metadata": {},
   "outputs": [
    {
     "name": "stdout",
     "output_type": "stream",
     "text": [
      "Good prediction cross entropy 0.35667494393873245\n",
      "Bad prediction cross entropy 2.3025850929940455\n"
     ]
    }
   ],
   "source": [
    "\"\"\"\n",
    "Now let's code cross entropy loss from scratch\n",
    "cross entropy = 1/N_samples * -Sum(y_actual * log(y_predicted))\n",
    "\"\"\"\n",
    "def cross_entropy_loss(actual, predicted, n_samples=1):\n",
    "    return -np.sum(actual*np.log(predicted))/n_samples\n",
    "\n",
    "# y must be one-hot encoded\n",
    "y_target = np.array([1, 0, 0])\n",
    "\n",
    "# y_pred has probabilities\n",
    "y_pred_good = np.array([0.7, 0.2, 0.1])\n",
    "y_pred_bad = np.array([0.1, 0.2, 0.6])\n",
    "l1, l2 = cross_entropy_loss(y_target, y_pred_good), cross_entropy_loss(y_target, y_pred_bad)\n",
    "print(f\"Good prediction cross entropy {l1}\")\n",
    "print(f\"Bad prediction cross entropy {l2}\")"
   ]
  },
  {
   "cell_type": "code",
   "execution_count": 44,
   "metadata": {},
   "outputs": [
    {
     "name": "stdout",
     "output_type": "stream",
     "text": [
      "Accurate Cross entropy loss 0.3018244206905365\n",
      "Inaccurate Cross entropy loss 1.6241613626480103\n",
      "Good prediction cross entropy tensor([2, 0, 1])\n",
      "Bad prediction cross entropy tensor([0, 2, 1])\n"
     ]
    }
   ],
   "source": [
    "\"\"\"\n",
    "Now we will use the cross entropy loss offered by PyTorch\n",
    "nn.crossEntropyLoss applies the nn.LogSoftmax + nn.NLLLoss \n",
    "(negative log likelihood loss) -> No Softmax in last layer!\n",
    "y_actual has class labels, not one-hot enoded!\n",
    "y_ored has raw scores (logits) not Softmax probabilities\n",
    "\"\"\"\n",
    "\n",
    "loss= nn.CrossEntropyLoss()\n",
    "y_actual = torch.tensor([2,0,1]) \n",
    "# n_samples * n_classes = 1 x 3\n",
    "y_pred_good = torch.tensor([[0.1, 1.0, 2.1], [2.0, 1.0, 0.1], [0.1, 3.0, 0.1]])\n",
    "y_pred_bad = torch.tensor([[2.1, 1.0, 0.1], [0.1, 1.0, 2.1], [0.1, 3.0, 0.1]])\n",
    "l1 = loss(y_pred_good, y_actual)\n",
    "l2 = loss(y_pred_bad, y_actual)\n",
    "print(f\"Accurate Cross entropy loss {l1}\")\n",
    "print(f\"Inaccurate Cross entropy loss {l2}\")\n",
    "\n",
    "_, prediction1 = torch.max(y_pred_good,1)\n",
    "_, prediction2 = torch.max(y_pred_bad,1)\n",
    "\n",
    "print(f\"Good prediction cross entropy {prediction1}\")\n",
    "print(f\"Bad prediction cross entropy {prediction2}\")\n"
   ]
  },
  {
   "cell_type": "markdown",
   "metadata": {},
   "source": [
    "Now lets classify the MNIST dataset using PyTorch\n",
    "going through a standard training pipeline"
   ]
  },
  {
   "cell_type": "code",
   "execution_count": 45,
   "metadata": {},
   "outputs": [],
   "source": [
    "# Download training data \n",
    "XY_train = datasets.MNIST(root=\"./data/mnist/\",download=True, train=True, transform=transforms.ToTensor())\n",
    "\n",
    "# Download test data\n",
    "XY_test = datasets.MNIST(root=\"./data/mnist/\",download=True, train=False, transform=transforms.ToTensor())"
   ]
  },
  {
   "cell_type": "code",
   "execution_count": 46,
   "metadata": {},
   "outputs": [
    {
     "data": {
      "text/plain": [
       "10000"
      ]
     },
     "execution_count": 46,
     "metadata": {},
     "output_type": "execute_result"
    }
   ],
   "source": [
    "XY_train.data.shape[0]\n",
    "XY_test.data.shape[0]"
   ]
  },
  {
   "cell_type": "code",
   "execution_count": 47,
   "metadata": {},
   "outputs": [
    {
     "name": "stdout",
     "output_type": "stream",
     "text": [
      "Shape of X_test [n_samples, channel, height, width]: torch.Size([64, 1, 28, 28])\n",
      "Shape of y_Test: torch.Size([64]) torch.int64\n"
     ]
    }
   ],
   "source": [
    "# Create DataLoaders\n",
    "batch_size = 64\n",
    "n_epochs =50\n",
    "total_samples = XY_train.data.shape[0]\n",
    "n_iterations = math.ceil(total_samples/batch_size)\n",
    "\n",
    "train_dataloader = DataLoader(dataset=XY_train, batch_size = batch_size, shuffle=True, num_workers=0)\n",
    "test_dataloader = DataLoader(dataset=XY_test, batch_size = batch_size, shuffle=True, num_workers=0)\n",
    "\n",
    "for X,y in test_dataloader:\n",
    "    print(f\"Shape of X_test [n_samples, channel, height, width]: {X.shape}\")\n",
    "    print(f\"Shape of y_Test: {y.shape} {y.dtype}\")\n",
    "    break"
   ]
  },
  {
   "cell_type": "code",
   "execution_count": 48,
   "metadata": {},
   "outputs": [
    {
     "name": "stdout",
     "output_type": "stream",
     "text": [
      "Using cuda device\n",
      "Classification_NN(\n",
      "  (flatten): Flatten(start_dim=1, end_dim=-1)\n",
      "  (model): Sequential(\n",
      "    (0): Linear(in_features=784, out_features=512, bias=True)\n",
      "    (1): ReLU()\n",
      "    (2): Linear(in_features=512, out_features=512, bias=True)\n",
      "    (3): ReLU()\n",
      "    (4): Linear(in_features=512, out_features=10, bias=True)\n",
      "  )\n",
      ")\n"
     ]
    }
   ],
   "source": [
    "# Get cpu or gpu device for training.\n",
    "device = \"cuda\" if torch.cuda.is_available() else \"cpu\"\n",
    "print(f\"Using {device} device\")\n",
    "\n",
    "# Define a custom Multiclass classification NN\n",
    "class Classification_NN(nn.Module):\n",
    "    \n",
    "    # Custom classification Network\n",
    "    def __init__(self, n_inputs, hidden_size, n_output):\n",
    "        super(Classification_NN, self).__init__()\n",
    "        self.flatten = nn.Flatten()\n",
    "        self.model = nn.Sequential(\n",
    "            nn.Linear(n_inputs, hidden_size),\n",
    "            nn.ReLU(),\n",
    "            nn.Linear(hidden_size, hidden_size),\n",
    "            nn.ReLU(),\n",
    "            nn.Linear(hidden_size, n_output)\n",
    "        )\n",
    "\n",
    "\n",
    "    def forward(self, x):\n",
    "        x = self.flatten(x)\n",
    "        z = self.model(x)\n",
    "        return z\n",
    "\n",
    "# Initialize model, choose loss and optimizer \n",
    "model = Classification_NN(n_inputs=28*28, hidden_size=512, n_output=10).to(device)\n",
    "criterion = nn.CrossEntropyLoss() #Softmax + Negative Log Likehood Loss\n",
    "optimizer = optim.Adagrad(params=model.parameters(), lr=0.001)\n",
    "print(model)"
   ]
  },
  {
   "cell_type": "code",
   "execution_count": 49,
   "metadata": {},
   "outputs": [],
   "source": [
    "# Define training function: calculate error, backpropagate, reset gradient \n",
    "\n",
    "def train(dataloader, model ,loss_fn, optimizer):\n",
    "    size = len(dataloader.dataset)\n",
    "    model.train()\n",
    "    for batch, (X,y) in enumerate(dataloader):\n",
    "        X,y = X.to(device), y.to(device)\n",
    "        \n",
    "        # Computer prediction error => forward pass\n",
    "        y_pred = model(X)\n",
    "        loss = loss_fn(y_pred, y)\n",
    "\n",
    "        # Backpropagation -> backward pass and reset gradient\n",
    "        optimizer.zero_grad()\n",
    "        loss.backward()\n",
    "        optimizer.step()\n",
    "\n",
    "        if batch % 100 == 0:\n",
    "            loss, current = loss.item(), batch * len(X)\n",
    "            print(f\"loss: {loss:.4f}, [{current:.4f}/{size:.4f}]\")\n",
    "\n",
    "\n",
    "# Define test function: evaluate performance \n",
    "\n",
    "def test(dataloader, model ,loss_fn):\n",
    "    size = len(dataloader.dataset)\n",
    "    num_batches = len(dataloader)\n",
    "    model.eval()\n",
    "    test_loss, correct = 0, 0\n",
    "    with torch.no_grad():\n",
    "        for X, y in dataloader:\n",
    "            X, y = X.to(device), y.to(device)\n",
    "            y_pred = model(X)\n",
    "            test_loss += loss_fn(y_pred, y).item()\n",
    "            correct += (y_pred.argmax(1) == y).type(torch.float).sum().item()\n",
    "    test_loss /= num_batches\n",
    "    correct /= size    \n",
    "    print(f\"Test Error: \\n Accuracy: {(100*correct):>0.1f}%, Avg loss: {test_loss:>8f} \\n\")\n",
    "\n"
   ]
  },
  {
   "cell_type": "code",
   "execution_count": 50,
   "metadata": {},
   "outputs": [
    {
     "name": "stdout",
     "output_type": "stream",
     "text": [
      "Epoch 1\n",
      "-------------------------------\n",
      "loss: 2.2987, [0.0000/60000.0000]\n",
      "loss: 0.4629, [6400.0000/60000.0000]\n",
      "loss: 0.6247, [12800.0000/60000.0000]\n",
      "loss: 0.3352, [19200.0000/60000.0000]\n",
      "loss: 0.4305, [25600.0000/60000.0000]\n",
      "loss: 0.2999, [32000.0000/60000.0000]\n",
      "loss: 0.2348, [38400.0000/60000.0000]\n",
      "loss: 0.2274, [44800.0000/60000.0000]\n",
      "loss: 0.2413, [51200.0000/60000.0000]\n",
      "loss: 0.3357, [57600.0000/60000.0000]\n",
      "Test Error: \n",
      " Accuracy: 91.8%, Avg loss: 0.294055 \n",
      "\n",
      "Epoch 2\n",
      "-------------------------------\n",
      "loss: 0.3286, [0.0000/60000.0000]\n",
      "loss: 0.3340, [6400.0000/60000.0000]\n",
      "loss: 0.4320, [12800.0000/60000.0000]\n",
      "loss: 0.4747, [19200.0000/60000.0000]\n",
      "loss: 0.2134, [25600.0000/60000.0000]\n",
      "loss: 0.2961, [32000.0000/60000.0000]\n",
      "loss: 0.1372, [38400.0000/60000.0000]\n",
      "loss: 0.2787, [44800.0000/60000.0000]\n",
      "loss: 0.3369, [51200.0000/60000.0000]\n",
      "loss: 0.2976, [57600.0000/60000.0000]\n",
      "Test Error: \n",
      " Accuracy: 92.6%, Avg loss: 0.260540 \n",
      "\n",
      "Epoch 3\n",
      "-------------------------------\n",
      "loss: 0.2342, [0.0000/60000.0000]\n",
      "loss: 0.1720, [6400.0000/60000.0000]\n",
      "loss: 0.2311, [12800.0000/60000.0000]\n",
      "loss: 0.1123, [19200.0000/60000.0000]\n",
      "loss: 0.3157, [25600.0000/60000.0000]\n",
      "loss: 0.3273, [32000.0000/60000.0000]\n",
      "loss: 0.2469, [38400.0000/60000.0000]\n",
      "loss: 0.1731, [44800.0000/60000.0000]\n",
      "loss: 0.3691, [51200.0000/60000.0000]\n",
      "loss: 0.2929, [57600.0000/60000.0000]\n",
      "Test Error: \n",
      " Accuracy: 93.3%, Avg loss: 0.237238 \n",
      "\n",
      "Epoch 4\n",
      "-------------------------------\n",
      "loss: 0.2040, [0.0000/60000.0000]\n",
      "loss: 0.2829, [6400.0000/60000.0000]\n",
      "loss: 0.1886, [12800.0000/60000.0000]\n",
      "loss: 0.1927, [19200.0000/60000.0000]\n",
      "loss: 0.4057, [25600.0000/60000.0000]\n",
      "loss: 0.2165, [32000.0000/60000.0000]\n",
      "loss: 0.3983, [38400.0000/60000.0000]\n",
      "loss: 0.2860, [44800.0000/60000.0000]\n",
      "loss: 0.3810, [51200.0000/60000.0000]\n",
      "loss: 0.2032, [57600.0000/60000.0000]\n",
      "Test Error: \n",
      " Accuracy: 93.6%, Avg loss: 0.223771 \n",
      "\n",
      "Epoch 5\n",
      "-------------------------------\n",
      "loss: 0.1827, [0.0000/60000.0000]\n",
      "loss: 0.2604, [6400.0000/60000.0000]\n",
      "loss: 0.2018, [12800.0000/60000.0000]\n",
      "loss: 0.1697, [19200.0000/60000.0000]\n",
      "loss: 0.1795, [25600.0000/60000.0000]\n",
      "loss: 0.2614, [32000.0000/60000.0000]\n",
      "loss: 0.2350, [38400.0000/60000.0000]\n",
      "loss: 0.3335, [44800.0000/60000.0000]\n",
      "loss: 0.0814, [51200.0000/60000.0000]\n",
      "loss: 0.1248, [57600.0000/60000.0000]\n",
      "Test Error: \n",
      " Accuracy: 93.9%, Avg loss: 0.213138 \n",
      "\n",
      "Done!\n"
     ]
    }
   ],
   "source": [
    "epochs = 5\n",
    "for t in range(epochs):\n",
    "    print(f\"Epoch {t+1}\\n-------------------------------\")\n",
    "    train(train_dataloader, model, criterion, optimizer)\n",
    "    test(test_dataloader, model, criterion)\n",
    "print(\"Done!\")"
   ]
  },
  {
   "cell_type": "code",
   "execution_count": 88,
   "metadata": {},
   "outputs": [],
   "source": [
    "# Saving models\n",
    "\n",
    "# torch.save(model.state_dict(), 'model.pth')\n",
    "# print(\"Saved PyTorch Model State to model.pth\"))"
   ]
  },
  {
   "cell_type": "code",
   "execution_count": 89,
   "metadata": {},
   "outputs": [],
   "source": [
    "# Loading models \n",
    "\n",
    "# model = Classification_NN(n_inputs=28*28, hidden_size=512, n_output=10).to(device)\n",
    "# model.load_state_dict(torch.load(\"model.pth\"))"
   ]
  },
  {
   "cell_type": "code",
   "execution_count": 191,
   "metadata": {},
   "outputs": [
    {
     "name": "stdout",
     "output_type": "stream",
     "text": [
      "[0, 1, 2, 3, 4, 5, 6, 7, 8, 9]\n",
      "Predicted: \"7\", Actual: \"7\"\n"
     ]
    }
   ],
   "source": [
    "# Make predictions -> NEEDS FIXING\n",
    "classes = [int(item[0]) for item in test_dataloader.dataset.classes]\n",
    "print(classes)\n",
    "eval_model = model.to(device=device).eval()\n",
    "x, y = XY_test[0][0].to(device=device), XY_test[0][1]\n",
    "with torch.no_grad():\n",
    "    pred = eval_model(x)\n",
    "    predicted, actual = classes[pred[0].argmax(0)], classes[y]\n",
    "    print(f'Predicted: \"{predicted}\", Actual: \"{actual}\"')"
   ]
  },
  {
   "cell_type": "markdown",
   "metadata": {},
   "source": [
    "## PyTorch Tutorial 12 - Activation Functions"
   ]
  },
  {
   "cell_type": "code",
   "execution_count": null,
   "metadata": {},
   "outputs": [],
   "source": [
    "import torch\n",
    "import torch.nn as nn\n",
    "import torch.nn.functional as F\n",
    "\n",
    "# When defining activation functions there are two ways\n",
    "\n",
    "# Option 1: explicitly define self.activation_fn_name\n",
    "\n",
    "class NeuralNetwork(nn.Module):\n",
    "\n",
    "    def __init__(self, input_nodes, hidden_nodes, output_nodes):\n",
    "        super(NeuralNetwork, self).__init__()\n",
    "        \"\"\"\n",
    "        We first define all different layers and activation functions that we will need\n",
    "        \"\"\"\n",
    "        self.linear1 = nn.Linear(input_nodes, hidden_nodes)\n",
    "        self.relu = nn.ReLU()\n",
    "        self.linear2 = nn.Linear(hidden_nodes, hidden_nodes)\n",
    "        self.linear3 = nn.Linear(hidden_nodes, output_nodes)\n",
    "        self.softmax = nn.Softmax(2)\n",
    "\n",
    "    def forward(self, x):\n",
    "        # In the forward pass we essentially assemble the network architecture\n",
    "        out = self.linear1(x)\n",
    "        out = self.relu(out)\n",
    "        out = self.linear2(out)\n",
    "        out = self.relu(out)\n",
    "        out = self.linear3(out)\n",
    "        out = self.softmax(out)\n",
    "        return out\n",
    "\n",
    "# Option 2: use activation functions directly in forward pass\n",
    "\n",
    "class NeuralNetwork(nn.Module):\n",
    "\n",
    "    def __init__(self, input_nodes, hidden_nodes, output_nodes):\n",
    "        super(NeuralNetwork, self).__init__()\n",
    "        \"\"\"\n",
    "        We first define all different layers and activation functions that we will need\n",
    "        \"\"\"\n",
    "        self.linear1 = nn.Linear(input_nodes, hidden_nodes)\n",
    "        self.linear2 = nn.Linear(hidden_nodes, hidden_nodes)\n",
    "        self.linear3 = nn.Linear(hidden_nodes, output_nodes)\n",
    "\n",
    "    def forward(self, x):\n",
    "        # In the forward pass we essentially assemble the network architecture\n",
    "        out = torch.relu(self.linear1(x))\n",
    "        out = torch.relu(self.linear2(out))\n",
    "        out = torch.softmax(self.linear3(out))\n",
    "        return out\n",
    "\n",
    "# Other available activation functions\n",
    "# nn.ReLU\n",
    "# nn.Tanh()\n",
    "# nn.Sigmoid()\n",
    "# nn.Softmax()\n",
    "# nn.LeakyReLU()\n",
    "# For more check torch.nn.functional"
   ]
  },
  {
   "cell_type": "markdown",
   "metadata": {},
   "source": [
    "## PyTorch Tutorial 13 - Feed-Forward Neural Network"
   ]
  },
  {
   "cell_type": "code",
   "execution_count": 5,
   "metadata": {},
   "outputs": [
    {
     "name": "stdout",
     "output_type": "stream",
     "text": [
      "torch.Size([100, 1, 28, 28]) torch.Size([100])\n"
     ]
    },
    {
     "data": {
      "image/png": "[encoded data removed]",
      "text/plain": [
       "<Figure size 432x288 with 6 Axes>"
      ]
     },
     "metadata": {
      "needs_background": "light"
     },
     "output_type": "display_data"
    }
   ],
   "source": [
    "import torch\n",
    "import torch.nn as nn\n",
    "import torchvision\n",
    "import torchvision.transforms as transforms\n",
    "import matplotlib.pyplot as plt\n",
    "\n",
    "# device config\n",
    "device = torch.device(\"cuda\" if torch.cuda.is_available() else \"cpu\")\n",
    "\n",
    "# hyper parameters\n",
    "input_size = 784 # 28x28\n",
    "hidden_size = 100\n",
    "num_classes = 10\n",
    "num_epochs = 2\n",
    "batch_size = 100\n",
    "learning_rate = 0.001\n",
    "\n",
    "# import the dataset\n",
    "train_dataset = torchvision.datasets.MNIST(root = \"./data/mnist/MNIST/\", train=True, transform=transforms.ToTensor(), download=True)\n",
    "test_dataset = torchvision.datasets.MNIST(root = \"./data/mnist/MNIST/\", train=False, transform=transforms.ToTensor())\n",
    "\n",
    "# data loaders\n",
    "train_loader = torch.utils.data.DataLoader(dataset = train_dataset, batch_size=batch_size, shuffle=True)\n",
    "test_loader = torch.utils.data.DataLoader(dataset = test_dataset, batch_size=batch_size, shuffle=False)\n",
    "\n",
    "examples = iter(train_loader)\n",
    "samples, labels = examples.next()\n",
    "print(samples.shape, labels.shape)\n",
    "\n",
    "for i in range(6):\n",
    "    plt.subplot(2, 3, i+1)\n",
    "    plt.imshow(samples[i][0], cmap=\"gray\")\n",
    "plt.show()\n"
   ]
  },
  {
   "cell_type": "code",
   "execution_count": 8,
   "metadata": {},
   "outputs": [
    {
     "name": "stdout",
     "output_type": "stream",
     "text": [
      "[(0, ('', NeuralNet(\n",
      "  (linear1): Linear(in_features=784, out_features=100, bias=True)\n",
      "  (leaky_relu): LeakyReLU(negative_slope=0.01)\n",
      "  (linear2): Linear(in_features=100, out_features=100, bias=True)\n",
      "  (linear3): Linear(in_features=100, out_features=10, bias=True)\n",
      "))), (1, ('linear1', Linear(in_features=784, out_features=100, bias=True))), (2, ('leaky_relu', LeakyReLU(negative_slope=0.01))), (3, ('linear2', Linear(in_features=100, out_features=100, bias=True))), (4, ('linear3', Linear(in_features=100, out_features=10, bias=True)))]\n"
     ]
    },
    {
     "ename": "SystemExit",
     "evalue": "",
     "output_type": "error",
     "traceback": [
      "An exception has occurred, use %tb to see the full traceback.\n",
      "\u001b[1;31mSystemExit\u001b[0m\n"
     ]
    }
   ],
   "source": [
    "class NeuralNet(nn.Module):\n",
    "    def __init__(self, input_size, hidden_size, output_size):\n",
    "        super(NeuralNet, self).__init__()\n",
    "        self.linear1 = nn.Linear(input_size, hidden_size)\n",
    "        self.leaky_relu = nn.LeakyReLU()\n",
    "        self.linear2 = nn.Linear(hidden_size, hidden_size)\n",
    "        self.linear3 = nn.Linear(hidden_size, output_size)\n",
    "\n",
    "    def forward(self, x):\n",
    "        # because we are using crossentropy loss we dont need to define\n",
    "        # a last layer activation function because it is applied automatically\n",
    "        out = self.linear1(x)\n",
    "        out = self.leaky_relu(out)\n",
    "        out = self.linear2(out)\n",
    "        out = self.leaky_relu(out)\n",
    "        out = self.linear3(out)\n",
    "        return out\n",
    "\n",
    "model = NeuralNet(input_size, hidden_size, output_size=num_classes).to(device)\n",
    "# loss and optimizer\n",
    "criterion = nn.CrossEntropyLoss()\n",
    "optimizer = torch.optim.Adam(model.parameters(), lr=learning_rate)\n",
    "\n",
    "# training loop\n",
    "\n",
    "n_total_steps = len(train_loader)\n",
    "for epoch in range(num_epochs):\n",
    "    for i, (images, labels) in enumerate(train_loader):\n",
    "        # 100 x 1 x 28 x 28 -> 100 x 784\n",
    "        images = images.reshape(-1, 28*28).to(device)\n",
    "        labels = labels.to(device)\n",
    "\n",
    "        # forward\n",
    "        outputs = model(images)\n",
    "        loss = criterion(outputs, labels)\n",
    "\n",
    "        # backward\n",
    "        optimizer.zero_grad()\n",
    "        loss.backward()\n",
    "        optimizer.step()\n",
    "\n",
    "        if (i+1) % 100 == 0:\n",
    "            print(f\"epoch {epoch+1} / {num_epochs}, step {i+1}/{n_total_steps}, loss = {loss.item():.4f}\")\n",
    "\n",
    "# test\n",
    "with torch.no_grad():\n",
    "    n_correct = 0\n",
    "    n_samples = 0\n",
    "    for images, labels in test_loader:\n",
    "        images = images.reshape(-1, 28*28).to(device)\n",
    "        labels = labels.to(device)\n",
    "        outputs = model(images)\n",
    "\n",
    "        #value, index\n",
    "        _, predictions = torch.max(outputs, 1)\n",
    "        n_samples +=labels.shape[0]\n",
    "        n_correct += (predictions == labels).sum().item()\n",
    "    acc = 100.0 * n_correct / n_samples\n",
    "    print(f\"accuracy = {acc}\")\n"
   ]
  },
  {
   "cell_type": "markdown",
   "metadata": {},
   "source": [
    "## PyTorch Tutorial 14 - Convolutional Neural Network"
   ]
  },
  {
   "cell_type": "markdown",
   "metadata": {},
   "source": [
    "### Import libraries, define hyperparameters, configure GPU.  Define data transforms, import data and visualize dataset batch"
   ]
  },
  {
   "cell_type": "code",
   "execution_count": 16,
   "metadata": {},
   "outputs": [
    {
     "name": "stdout",
     "output_type": "stream",
     "text": [
      "Files already downloaded and verified\n"
     ]
    },
    {
     "data": {
      "image/png": "[encoded data removed]",
      "text/plain": [
       "<Figure size 432x288 with 1 Axes>"
      ]
     },
     "metadata": {
      "needs_background": "light"
     },
     "output_type": "display_data"
    },
    {
     "name": "stdout",
     "output_type": "stream",
     "text": [
      "torch.Size([16, 3, 32, 32])\n",
      "torch.Size([16, 6, 28, 28])\n",
      "torch.Size([16, 6, 14, 14])\n",
      "torch.Size([16, 16, 10, 10])\n",
      "torch.Size([16, 16, 5, 5])\n"
     ]
    }
   ],
   "source": [
    "import torch\n",
    "import torch.nn as nn\n",
    "import torchvision\n",
    "import torchvision.transforms as transforms\n",
    "import matplotlib.pyplot as plt\n",
    "import numpy as np\n",
    "\n",
    "# device config\n",
    "device = torch.device(\"cuda\" if torch.cuda.is_available() else \"cpu\")\n",
    "\n",
    "# hyper parameters\n",
    "num_epochs = 10\n",
    "batch_size = 16\n",
    "learning_rate = 0.001\n",
    "\n",
    "# the dataset has a PILImage images of range [0,1]\n",
    "# we need to tranform them to Tensors of normalized range [-1, 1]\n",
    "\n",
    "transformations = transforms.Compose([\n",
    "    transforms.ToTensor(),\n",
    "    transforms.Normalize((0.5, 0.5, 0.5), (0.5, 0.5, 0.5))\n",
    "])\n",
    "\n",
    "# import the dataset\n",
    "train_dataset = torchvision.datasets.CIFAR10(root = \"./data/CIFAR10/\", train=True, transform=transformations, download=True)\n",
    "test_dataset = torchvision.datasets.CIFAR10(root = \"./data/CIFAR10/\", train=False, transform=transformations)\n",
    "\n",
    "# data loaders\n",
    "train_loader = torch.utils.data.DataLoader(dataset = train_dataset, batch_size=batch_size, shuffle=True)\n",
    "test_loader = torch.utils.data.DataLoader(dataset = test_dataset, batch_size=batch_size, shuffle=False)\n",
    "\n",
    "classes = [\"plane\", \"car\", \"bird\", \"cat\", \"deer\", \"dog\", \"frog\", \"horse\", \"ship\", \"truck\"]\n",
    "\n",
    "def imshow(img):\n",
    "    img = img / 2 + 0.5 # unonrmalize\n",
    "    npimg = img.numpy()\n",
    "    plt.imshow(np.transpose(npimg, (1,2,0)))\n",
    "    plt.show()\n",
    "\n",
    "#visualize some random training images\n",
    "dataiter =iter(train_loader)\n",
    "images, labels = dataiter.next()\n",
    "imshow(torchvision.utils.make_grid(images))\n",
    "\n",
    "conv1 = nn.Conv2d(3, 6, 5)\n",
    "pool = nn.MaxPool2d(2, 2)\n",
    "conv2 = nn.Conv2d(6, 16, 5)\n",
    "print(images.shape)\n",
    "x = conv1(images)\n",
    "print(x.shape)\n",
    "x = pool(x)\n",
    "print(x.shape)\n",
    "x = conv2(x)\n",
    "print(x.shape)\n",
    "x = pool(x)\n",
    "print(x.shape)\n"
   ]
  },
  {
   "cell_type": "markdown",
   "metadata": {},
   "source": [
    "### Define model, loss, optimizer and the training loop"
   ]
  },
  {
   "cell_type": "code",
   "execution_count": 17,
   "metadata": {},
   "outputs": [
    {
     "name": "stdout",
     "output_type": "stream",
     "text": [
      "epoch 1 / 10, step 100/3125, loss = 2.3158\n",
      "epoch 1 / 10, step 200/3125, loss = 2.2842\n",
      "epoch 1 / 10, step 300/3125, loss = 2.2915\n",
      "epoch 1 / 10, step 400/3125, loss = 2.2865\n",
      "epoch 1 / 10, step 500/3125, loss = 2.2965\n",
      "epoch 1 / 10, step 600/3125, loss = 2.3010\n",
      "epoch 1 / 10, step 700/3125, loss = 2.3057\n",
      "epoch 1 / 10, step 800/3125, loss = 2.3093\n",
      "epoch 1 / 10, step 900/3125, loss = 2.2675\n",
      "epoch 1 / 10, step 1000/3125, loss = 2.2755\n",
      "epoch 1 / 10, step 1100/3125, loss = 2.2818\n",
      "epoch 1 / 10, step 1200/3125, loss = 2.2882\n",
      "epoch 1 / 10, step 1300/3125, loss = 2.3055\n",
      "epoch 1 / 10, step 1400/3125, loss = 2.3112\n",
      "epoch 1 / 10, step 1500/3125, loss = 2.2965\n",
      "epoch 1 / 10, step 1600/3125, loss = 2.2920\n",
      "epoch 1 / 10, step 1700/3125, loss = 2.2688\n",
      "epoch 1 / 10, step 1800/3125, loss = 2.2939\n",
      "epoch 1 / 10, step 1900/3125, loss = 2.2796\n",
      "epoch 1 / 10, step 2000/3125, loss = 2.2962\n",
      "epoch 1 / 10, step 2100/3125, loss = 2.2821\n",
      "epoch 1 / 10, step 2200/3125, loss = 2.3022\n",
      "epoch 1 / 10, step 2300/3125, loss = 2.2965\n",
      "epoch 1 / 10, step 2400/3125, loss = 2.2840\n",
      "epoch 1 / 10, step 2500/3125, loss = 2.2833\n",
      "epoch 1 / 10, step 2600/3125, loss = 2.3222\n",
      "epoch 1 / 10, step 2700/3125, loss = 2.3066\n",
      "epoch 1 / 10, step 2800/3125, loss = 2.3114\n",
      "epoch 1 / 10, step 2900/3125, loss = 2.2903\n",
      "epoch 1 / 10, step 3000/3125, loss = 2.2933\n",
      "epoch 1 / 10, step 3100/3125, loss = 2.3019\n",
      "epoch 2 / 10, step 100/3125, loss = 2.2860\n",
      "epoch 2 / 10, step 200/3125, loss = 2.2738\n",
      "epoch 2 / 10, step 300/3125, loss = 2.2949\n",
      "epoch 2 / 10, step 400/3125, loss = 2.2797\n",
      "epoch 2 / 10, step 500/3125, loss = 2.2938\n",
      "epoch 2 / 10, step 600/3125, loss = 2.3120\n",
      "epoch 2 / 10, step 700/3125, loss = 2.3031\n",
      "epoch 2 / 10, step 800/3125, loss = 2.3133\n",
      "epoch 2 / 10, step 900/3125, loss = 2.3042\n",
      "epoch 2 / 10, step 1000/3125, loss = 2.2961\n",
      "epoch 2 / 10, step 1100/3125, loss = 2.3259\n",
      "epoch 2 / 10, step 1200/3125, loss = 2.3021\n",
      "epoch 2 / 10, step 1300/3125, loss = 2.2848\n",
      "epoch 2 / 10, step 1400/3125, loss = 2.2884\n",
      "epoch 2 / 10, step 1500/3125, loss = 2.2834\n",
      "epoch 2 / 10, step 1600/3125, loss = 2.2937\n",
      "epoch 2 / 10, step 1700/3125, loss = 2.2795\n",
      "epoch 2 / 10, step 1800/3125, loss = 2.2882\n",
      "epoch 2 / 10, step 1900/3125, loss = 2.3089\n",
      "epoch 2 / 10, step 2000/3125, loss = 2.2861\n",
      "epoch 2 / 10, step 2100/3125, loss = 2.2858\n",
      "epoch 2 / 10, step 2200/3125, loss = 2.2943\n",
      "epoch 2 / 10, step 2300/3125, loss = 2.2919\n",
      "epoch 2 / 10, step 2400/3125, loss = 2.2798\n",
      "epoch 2 / 10, step 2500/3125, loss = 2.2769\n",
      "epoch 2 / 10, step 2600/3125, loss = 2.2931\n",
      "epoch 2 / 10, step 2700/3125, loss = 2.2858\n",
      "epoch 2 / 10, step 2800/3125, loss = 2.2967\n",
      "epoch 2 / 10, step 2900/3125, loss = 2.2915\n",
      "epoch 2 / 10, step 3000/3125, loss = 2.2791\n",
      "epoch 2 / 10, step 3100/3125, loss = 2.2837\n",
      "epoch 3 / 10, step 100/3125, loss = 2.2851\n",
      "epoch 3 / 10, step 200/3125, loss = 2.2782\n",
      "epoch 3 / 10, step 300/3125, loss = 2.3025\n",
      "epoch 3 / 10, step 400/3125, loss = 2.3012\n",
      "epoch 3 / 10, step 500/3125, loss = 2.3097\n",
      "epoch 3 / 10, step 600/3125, loss = 2.2860\n",
      "epoch 3 / 10, step 700/3125, loss = 2.2950\n",
      "epoch 3 / 10, step 800/3125, loss = 2.2785\n",
      "epoch 3 / 10, step 900/3125, loss = 2.2800\n",
      "epoch 3 / 10, step 1000/3125, loss = 2.2792\n",
      "epoch 3 / 10, step 1100/3125, loss = 2.2661\n",
      "epoch 3 / 10, step 1200/3125, loss = 2.2909\n",
      "epoch 3 / 10, step 1300/3125, loss = 2.2798\n",
      "epoch 3 / 10, step 1400/3125, loss = 2.2861\n",
      "epoch 3 / 10, step 1500/3125, loss = 2.2733\n",
      "epoch 3 / 10, step 1600/3125, loss = 2.2475\n",
      "epoch 3 / 10, step 1700/3125, loss = 2.2473\n",
      "epoch 3 / 10, step 1800/3125, loss = 2.2399\n",
      "epoch 3 / 10, step 1900/3125, loss = 2.2503\n",
      "epoch 3 / 10, step 2000/3125, loss = 2.2870\n",
      "epoch 3 / 10, step 2100/3125, loss = 2.2815\n",
      "epoch 3 / 10, step 2200/3125, loss = 2.2646\n",
      "epoch 3 / 10, step 2300/3125, loss = 2.2343\n",
      "epoch 3 / 10, step 2400/3125, loss = 2.2425\n",
      "epoch 3 / 10, step 2500/3125, loss = 2.2339\n",
      "epoch 3 / 10, step 2600/3125, loss = 2.2882\n",
      "epoch 3 / 10, step 2700/3125, loss = 2.2160\n",
      "epoch 3 / 10, step 2800/3125, loss = 2.2226\n",
      "epoch 3 / 10, step 2900/3125, loss = 2.3099\n",
      "epoch 3 / 10, step 3000/3125, loss = 2.1772\n",
      "epoch 3 / 10, step 3100/3125, loss = 2.2261\n",
      "epoch 4 / 10, step 100/3125, loss = 2.1988\n",
      "epoch 4 / 10, step 200/3125, loss = 2.1754\n",
      "epoch 4 / 10, step 300/3125, loss = 2.2969\n",
      "epoch 4 / 10, step 400/3125, loss = 2.0878\n",
      "epoch 4 / 10, step 500/3125, loss = 2.1875\n",
      "epoch 4 / 10, step 600/3125, loss = 2.1081\n",
      "epoch 4 / 10, step 700/3125, loss = 2.0910\n",
      "epoch 4 / 10, step 800/3125, loss = 2.1228\n",
      "epoch 4 / 10, step 900/3125, loss = 2.2043\n",
      "epoch 4 / 10, step 1000/3125, loss = 2.3820\n",
      "epoch 4 / 10, step 1100/3125, loss = 2.0975\n",
      "epoch 4 / 10, step 1200/3125, loss = 2.1253\n",
      "epoch 4 / 10, step 1300/3125, loss = 1.9923\n",
      "epoch 4 / 10, step 1400/3125, loss = 2.1647\n",
      "epoch 4 / 10, step 1500/3125, loss = 2.1807\n",
      "epoch 4 / 10, step 1600/3125, loss = 2.1057\n",
      "epoch 4 / 10, step 1700/3125, loss = 1.9973\n",
      "epoch 4 / 10, step 1800/3125, loss = 1.8948\n",
      "epoch 4 / 10, step 1900/3125, loss = 2.2042\n",
      "epoch 4 / 10, step 2000/3125, loss = 1.9247\n",
      "epoch 4 / 10, step 2100/3125, loss = 2.0253\n",
      "epoch 4 / 10, step 2200/3125, loss = 2.0061\n",
      "epoch 4 / 10, step 2300/3125, loss = 1.9973\n",
      "epoch 4 / 10, step 2400/3125, loss = 1.9608\n",
      "epoch 4 / 10, step 2500/3125, loss = 1.8685\n",
      "epoch 4 / 10, step 2600/3125, loss = 2.4160\n",
      "epoch 4 / 10, step 2700/3125, loss = 2.0914\n",
      "epoch 4 / 10, step 2800/3125, loss = 1.9191\n",
      "epoch 4 / 10, step 2900/3125, loss = 2.0731\n",
      "epoch 4 / 10, step 3000/3125, loss = 1.9519\n",
      "epoch 4 / 10, step 3100/3125, loss = 1.7674\n",
      "epoch 5 / 10, step 100/3125, loss = 2.1528\n",
      "epoch 5 / 10, step 200/3125, loss = 2.0946\n",
      "epoch 5 / 10, step 300/3125, loss = 2.1551\n",
      "epoch 5 / 10, step 400/3125, loss = 2.0475\n",
      "epoch 5 / 10, step 500/3125, loss = 1.9091\n",
      "epoch 5 / 10, step 600/3125, loss = 1.8979\n",
      "epoch 5 / 10, step 700/3125, loss = 1.7590\n",
      "epoch 5 / 10, step 800/3125, loss = 1.7877\n",
      "epoch 5 / 10, step 900/3125, loss = 2.2060\n",
      "epoch 5 / 10, step 1000/3125, loss = 2.0927\n",
      "epoch 5 / 10, step 1100/3125, loss = 2.4427\n",
      "epoch 5 / 10, step 1200/3125, loss = 1.9813\n",
      "epoch 5 / 10, step 1300/3125, loss = 1.8277\n",
      "epoch 5 / 10, step 1400/3125, loss = 1.8754\n",
      "epoch 5 / 10, step 1500/3125, loss = 1.9908\n",
      "epoch 5 / 10, step 1600/3125, loss = 1.9311\n",
      "epoch 5 / 10, step 1700/3125, loss = 1.6906\n",
      "epoch 5 / 10, step 1800/3125, loss = 2.0011\n",
      "epoch 5 / 10, step 1900/3125, loss = 2.1404\n",
      "epoch 5 / 10, step 2000/3125, loss = 2.0410\n",
      "epoch 5 / 10, step 2100/3125, loss = 1.8935\n",
      "epoch 5 / 10, step 2200/3125, loss = 1.6936\n",
      "epoch 5 / 10, step 2300/3125, loss = 1.7815\n",
      "epoch 5 / 10, step 2400/3125, loss = 1.9442\n",
      "epoch 5 / 10, step 2500/3125, loss = 2.1824\n",
      "epoch 5 / 10, step 2600/3125, loss = 2.1881\n",
      "epoch 5 / 10, step 2700/3125, loss = 1.8259\n",
      "epoch 5 / 10, step 2800/3125, loss = 1.9596\n",
      "epoch 5 / 10, step 2900/3125, loss = 1.6468\n",
      "epoch 5 / 10, step 3000/3125, loss = 1.9789\n",
      "epoch 5 / 10, step 3100/3125, loss = 1.7486\n",
      "epoch 6 / 10, step 100/3125, loss = 1.4991\n",
      "epoch 6 / 10, step 200/3125, loss = 1.9530\n",
      "epoch 6 / 10, step 300/3125, loss = 1.6701\n",
      "epoch 6 / 10, step 400/3125, loss = 1.7302\n",
      "epoch 6 / 10, step 500/3125, loss = 1.9255\n",
      "epoch 6 / 10, step 600/3125, loss = 1.6840\n",
      "epoch 6 / 10, step 700/3125, loss = 1.7783\n",
      "epoch 6 / 10, step 800/3125, loss = 2.1021\n",
      "epoch 6 / 10, step 900/3125, loss = 1.9318\n",
      "epoch 6 / 10, step 1000/3125, loss = 2.0043\n",
      "epoch 6 / 10, step 1100/3125, loss = 1.8307\n",
      "epoch 6 / 10, step 1200/3125, loss = 1.7596\n",
      "epoch 6 / 10, step 1300/3125, loss = 1.8823\n",
      "epoch 6 / 10, step 1400/3125, loss = 1.8190\n",
      "epoch 6 / 10, step 1500/3125, loss = 1.8880\n",
      "epoch 6 / 10, step 1600/3125, loss = 1.7985\n",
      "epoch 6 / 10, step 1700/3125, loss = 2.0021\n",
      "epoch 6 / 10, step 1800/3125, loss = 1.7717\n",
      "epoch 6 / 10, step 1900/3125, loss = 1.8977\n",
      "epoch 6 / 10, step 2000/3125, loss = 1.9817\n",
      "epoch 6 / 10, step 2100/3125, loss = 1.5241\n",
      "epoch 6 / 10, step 2200/3125, loss = 1.9491\n",
      "epoch 6 / 10, step 2300/3125, loss = 1.7041\n",
      "epoch 6 / 10, step 2400/3125, loss = 1.5786\n",
      "epoch 6 / 10, step 2500/3125, loss = 2.1650\n",
      "epoch 6 / 10, step 2600/3125, loss = 1.7598\n",
      "epoch 6 / 10, step 2700/3125, loss = 1.6514\n",
      "epoch 6 / 10, step 2800/3125, loss = 1.9058\n",
      "epoch 6 / 10, step 2900/3125, loss = 1.6725\n",
      "epoch 6 / 10, step 3000/3125, loss = 1.7127\n",
      "epoch 6 / 10, step 3100/3125, loss = 1.6899\n",
      "epoch 7 / 10, step 100/3125, loss = 1.6191\n",
      "epoch 7 / 10, step 200/3125, loss = 1.9790\n",
      "epoch 7 / 10, step 300/3125, loss = 1.6074\n",
      "epoch 7 / 10, step 400/3125, loss = 1.7903\n",
      "epoch 7 / 10, step 500/3125, loss = 1.8764\n",
      "epoch 7 / 10, step 600/3125, loss = 1.6672\n",
      "epoch 7 / 10, step 700/3125, loss = 1.8982\n",
      "epoch 7 / 10, step 800/3125, loss = 1.8129\n",
      "epoch 7 / 10, step 900/3125, loss = 2.0319\n",
      "epoch 7 / 10, step 1000/3125, loss = 1.8389\n",
      "epoch 7 / 10, step 1100/3125, loss = 1.8063\n",
      "epoch 7 / 10, step 1200/3125, loss = 1.7209\n",
      "epoch 7 / 10, step 1300/3125, loss = 1.5396\n",
      "epoch 7 / 10, step 1400/3125, loss = 1.6802\n",
      "epoch 7 / 10, step 1500/3125, loss = 1.5325\n",
      "epoch 7 / 10, step 1600/3125, loss = 1.6777\n",
      "epoch 7 / 10, step 1700/3125, loss = 1.8201\n",
      "epoch 7 / 10, step 1800/3125, loss = 1.7860\n",
      "epoch 7 / 10, step 1900/3125, loss = 1.6815\n",
      "epoch 7 / 10, step 2000/3125, loss = 1.8282\n",
      "epoch 7 / 10, step 2100/3125, loss = 1.6708\n",
      "epoch 7 / 10, step 2200/3125, loss = 1.6316\n",
      "epoch 7 / 10, step 2300/3125, loss = 2.0533\n",
      "epoch 7 / 10, step 2400/3125, loss = 1.5457\n",
      "epoch 7 / 10, step 2500/3125, loss = 1.5842\n",
      "epoch 7 / 10, step 2600/3125, loss = 1.4591\n",
      "epoch 7 / 10, step 2700/3125, loss = 1.8471\n",
      "epoch 7 / 10, step 2800/3125, loss = 1.7030\n",
      "epoch 7 / 10, step 2900/3125, loss = 1.4237\n",
      "epoch 7 / 10, step 3000/3125, loss = 1.4796\n",
      "epoch 7 / 10, step 3100/3125, loss = 1.8625\n",
      "epoch 8 / 10, step 100/3125, loss = 1.7764\n",
      "epoch 8 / 10, step 200/3125, loss = 1.8447\n",
      "epoch 8 / 10, step 300/3125, loss = 1.7250\n",
      "epoch 8 / 10, step 400/3125, loss = 1.3655\n",
      "epoch 8 / 10, step 500/3125, loss = 1.6721\n",
      "epoch 8 / 10, step 600/3125, loss = 1.5262\n",
      "epoch 8 / 10, step 700/3125, loss = 1.7991\n",
      "epoch 8 / 10, step 800/3125, loss = 1.4369\n",
      "epoch 8 / 10, step 900/3125, loss = 1.6318\n",
      "epoch 8 / 10, step 1000/3125, loss = 1.4707\n",
      "epoch 8 / 10, step 1100/3125, loss = 1.6495\n",
      "epoch 8 / 10, step 1200/3125, loss = 1.5758\n",
      "epoch 8 / 10, step 1300/3125, loss = 1.7023\n",
      "epoch 8 / 10, step 1400/3125, loss = 1.2516\n",
      "epoch 8 / 10, step 1500/3125, loss = 1.7187\n",
      "epoch 8 / 10, step 1600/3125, loss = 1.5889\n",
      "epoch 8 / 10, step 1700/3125, loss = 1.4113\n",
      "epoch 8 / 10, step 1800/3125, loss = 1.5848\n",
      "epoch 8 / 10, step 1900/3125, loss = 1.8359\n",
      "epoch 8 / 10, step 2000/3125, loss = 1.9994\n",
      "epoch 8 / 10, step 2100/3125, loss = 1.7790\n",
      "epoch 8 / 10, step 2200/3125, loss = 1.6401\n",
      "epoch 8 / 10, step 2300/3125, loss = 1.5213\n",
      "epoch 8 / 10, step 2400/3125, loss = 1.6120\n",
      "epoch 8 / 10, step 2500/3125, loss = 1.5511\n",
      "epoch 8 / 10, step 2600/3125, loss = 1.6260\n",
      "epoch 8 / 10, step 2700/3125, loss = 1.5501\n",
      "epoch 8 / 10, step 2800/3125, loss = 1.7413\n",
      "epoch 8 / 10, step 2900/3125, loss = 1.6736\n",
      "epoch 8 / 10, step 3000/3125, loss = 1.9737\n",
      "epoch 8 / 10, step 3100/3125, loss = 2.0345\n",
      "epoch 9 / 10, step 100/3125, loss = 1.7464\n",
      "epoch 9 / 10, step 200/3125, loss = 1.7254\n",
      "epoch 9 / 10, step 300/3125, loss = 1.4667\n",
      "epoch 9 / 10, step 400/3125, loss = 1.8815\n",
      "epoch 9 / 10, step 500/3125, loss = 1.6923\n",
      "epoch 9 / 10, step 600/3125, loss = 1.6613\n",
      "epoch 9 / 10, step 700/3125, loss = 1.4685\n",
      "epoch 9 / 10, step 800/3125, loss = 1.8480\n",
      "epoch 9 / 10, step 900/3125, loss = 1.6710\n",
      "epoch 9 / 10, step 1000/3125, loss = 1.9190\n",
      "epoch 9 / 10, step 1100/3125, loss = 1.6649\n",
      "epoch 9 / 10, step 1200/3125, loss = 2.0893\n",
      "epoch 9 / 10, step 1300/3125, loss = 1.3032\n",
      "epoch 9 / 10, step 1400/3125, loss = 2.0698\n",
      "epoch 9 / 10, step 1500/3125, loss = 1.7689\n",
      "epoch 9 / 10, step 1600/3125, loss = 1.4776\n",
      "epoch 9 / 10, step 1700/3125, loss = 2.0148\n",
      "epoch 9 / 10, step 1800/3125, loss = 1.5805\n",
      "epoch 9 / 10, step 1900/3125, loss = 1.5077\n",
      "epoch 9 / 10, step 2000/3125, loss = 1.7072\n",
      "epoch 9 / 10, step 2100/3125, loss = 1.6946\n",
      "epoch 9 / 10, step 2200/3125, loss = 1.6182\n",
      "epoch 9 / 10, step 2300/3125, loss = 2.0496\n",
      "epoch 9 / 10, step 2400/3125, loss = 1.5637\n",
      "epoch 9 / 10, step 2500/3125, loss = 1.8166\n",
      "epoch 9 / 10, step 2600/3125, loss = 1.4138\n",
      "epoch 9 / 10, step 2700/3125, loss = 1.3410\n",
      "epoch 9 / 10, step 2800/3125, loss = 1.6821\n",
      "epoch 9 / 10, step 2900/3125, loss = 1.3136\n",
      "epoch 9 / 10, step 3000/3125, loss = 1.5549\n",
      "epoch 9 / 10, step 3100/3125, loss = 1.4807\n",
      "epoch 10 / 10, step 100/3125, loss = 1.4094\n",
      "epoch 10 / 10, step 200/3125, loss = 1.3597\n",
      "epoch 10 / 10, step 300/3125, loss = 1.4889\n",
      "epoch 10 / 10, step 400/3125, loss = 1.7412\n",
      "epoch 10 / 10, step 500/3125, loss = 1.6092\n",
      "epoch 10 / 10, step 600/3125, loss = 1.7624\n",
      "epoch 10 / 10, step 700/3125, loss = 1.5502\n",
      "epoch 10 / 10, step 800/3125, loss = 1.2868\n",
      "epoch 10 / 10, step 900/3125, loss = 1.7918\n",
      "epoch 10 / 10, step 1000/3125, loss = 1.8027\n",
      "epoch 10 / 10, step 1100/3125, loss = 1.5734\n",
      "epoch 10 / 10, step 1200/3125, loss = 1.6924\n",
      "epoch 10 / 10, step 1300/3125, loss = 1.3381\n",
      "epoch 10 / 10, step 1400/3125, loss = 1.9231\n",
      "epoch 10 / 10, step 1500/3125, loss = 1.5357\n",
      "epoch 10 / 10, step 1600/3125, loss = 1.6719\n",
      "epoch 10 / 10, step 1700/3125, loss = 1.6099\n",
      "epoch 10 / 10, step 1800/3125, loss = 2.1284\n",
      "epoch 10 / 10, step 1900/3125, loss = 1.5795\n",
      "epoch 10 / 10, step 2000/3125, loss = 1.4764\n",
      "epoch 10 / 10, step 2100/3125, loss = 1.4536\n",
      "epoch 10 / 10, step 2200/3125, loss = 1.3562\n",
      "epoch 10 / 10, step 2300/3125, loss = 1.2881\n",
      "epoch 10 / 10, step 2400/3125, loss = 1.5366\n",
      "epoch 10 / 10, step 2500/3125, loss = 1.6109\n",
      "epoch 10 / 10, step 2600/3125, loss = 1.7976\n",
      "epoch 10 / 10, step 2700/3125, loss = 1.6008\n",
      "epoch 10 / 10, step 2800/3125, loss = 1.4664\n",
      "epoch 10 / 10, step 2900/3125, loss = 1.3567\n",
      "epoch 10 / 10, step 3000/3125, loss = 1.5686\n",
      "epoch 10 / 10, step 3100/3125, loss = 1.2712\n"
     ]
    }
   ],
   "source": [
    "\n",
    "# define model\n",
    "\n",
    "class ConvNet(nn.Module):\n",
    "    def __init__(self):\n",
    "        super(ConvNet, self).__init__()\n",
    "        self.conv1 = nn.Conv2d(in_channels=3, out_channels=6, kernel_size=5)\n",
    "        self.pool = nn.MaxPool2d(kernel_size=2, stride=2) \n",
    "        self.leaky_relu = nn.LeakyReLU()\n",
    "        self.conv2 = nn.Conv2d(6, 16, 5)\n",
    "        self.fc1 = nn.Linear(16*5*5, 120) #channels * height * width\n",
    "        self.fc2 = nn.Linear(in_features=120,out_features=84)\n",
    "        self.fc3 = nn.Linear(84, 10)\n",
    "\n",
    "    def forward(self,x):\n",
    "        # because we are using crossentropy loss we dont need to define\n",
    "        # a last layer activation function because it is applied automatically\n",
    "        x = self.pool(self.leaky_relu(self.conv1(x))) #conv1->L_relu->pool\n",
    "        x = self.pool(self.leaky_relu(self.conv2(x))) #conv2->L_relu->pool\n",
    "        x = x.view(-1, 16*5*5) # flatten\n",
    "\n",
    "        x = self.leaky_relu(self.fc1(x))\n",
    "        x = self.leaky_relu(self.fc2(x))\n",
    "        x = self.fc3(x) # no activattion function applied as cross-entropy metric takes care of that\n",
    "        return x\n",
    "\n",
    "model = ConvNet().to(device)\n",
    "\n",
    "# loss and optimizer\n",
    "criterion = nn.CrossEntropyLoss()\n",
    "optimizer = torch.optim.SGD(model.parameters(), lr=learning_rate)\n",
    "\n",
    "# training loop\n",
    "\n",
    "n_total_steps = len(train_loader)\n",
    "for epoch in range(num_epochs):\n",
    "    for i, (images, labels) in enumerate(train_loader):\n",
    "        images = images.to(device)\n",
    "        labels = labels.to(device)\n",
    "\n",
    "        # forward\n",
    "        outputs = model(images)\n",
    "        loss = criterion(outputs, labels)\n",
    "\n",
    "        # backward\n",
    "        optimizer.zero_grad()\n",
    "        loss.backward()\n",
    "        optimizer.step()\n",
    "\n",
    "        if (i+1) % 100 == 0:\n",
    "            print(f\"epoch {epoch+1} / {num_epochs}, step {i+1}/{n_total_steps}, loss = {loss.item():.4f}\")\n"
   ]
  },
  {
   "cell_type": "markdown",
   "metadata": {},
   "source": [
    "### Evaluate the performance on the test set"
   ]
  },
  {
   "cell_type": "code",
   "execution_count": 18,
   "metadata": {},
   "outputs": [
    {
     "name": "stdout",
     "output_type": "stream",
     "text": [
      "accuracy = 41.25\n",
      "Accuracy of plane: 59.1 %\n",
      "Accuracy of car: 48.2 %\n",
      "Accuracy of bird: 18.1 %\n",
      "Accuracy of cat: 34.8 %\n",
      "Accuracy of deer: 36.8 %\n",
      "Accuracy of dog: 32.3 %\n",
      "Accuracy of frog: 40.6 %\n",
      "Accuracy of horse: 50.3 %\n",
      "Accuracy of ship: 47.0 %\n",
      "Accuracy of truck: 45.3 %\n"
     ]
    }
   ],
   "source": [
    "# test\n",
    "with torch.no_grad():\n",
    "    n_correct = 0\n",
    "    n_samples = 0\n",
    "    n_class_correct = [0] * 10\n",
    "    n_class_samples = [0] * 10\n",
    "\n",
    "    for images, labels in test_loader:\n",
    "        images = images.to(device)\n",
    "        labels = labels.to(device)\n",
    "        outputs = model(images)\n",
    "\n",
    "        #value, index\n",
    "        _, predicted = torch.max(outputs, 1)\n",
    "        n_samples += labels.shape[0]\n",
    "        n_correct += (predicted == labels).sum().item()\n",
    "\n",
    "        for i in range(batch_size):\n",
    "            label = labels[i]\n",
    "            pred = predicted[i]\n",
    "            if label == pred:\n",
    "                n_class_correct[label] += 1\n",
    "            n_class_samples[label] += 1\n",
    "    \n",
    "    acc = 100.0 * n_correct / n_samples\n",
    "    print(f\"accuracy = {acc}\")\n",
    "\n",
    "    for i in range(10):\n",
    "        acc = 100.0 * n_class_correct[i] / n_class_samples[i]\n",
    "        print(f\"Accuracy of {classes[i]}: {acc} %\")"
   ]
  },
  {
   "cell_type": "markdown",
   "metadata": {},
   "source": [
    "## PyTorch Tutorial 15 - Transfer Learning"
   ]
  },
  {
   "cell_type": "markdown",
   "metadata": {},
   "source": [
    "### Define transforms, Import data, Write model training function"
   ]
  },
  {
   "cell_type": "code",
   "execution_count": 32,
   "metadata": {},
   "outputs": [
    {
     "name": "stdout",
     "output_type": "stream",
     "text": [
      "['ants', 'bees']\n"
     ]
    }
   ],
   "source": [
    "import torch\n",
    "import torch.nn as nn\n",
    "import torch.optim as optim\n",
    "from torch.optim import lr_scheduler\n",
    "import numpy as np\n",
    "import torchvision\n",
    "from torchvision import datasets, models, transforms\n",
    "import matplotlib.pyplot as plt\n",
    "import time\n",
    "import os\n",
    "import copy\n",
    "\n",
    "device = torch.device(\"cuda\" if torch.cuda.is_available() else \"cpu\")\n",
    "\n",
    "mean = np.array([0.485, 0.456, 0.406])\n",
    "std = np.array([0.229, 0.224, 0.225])\n",
    "\n",
    "data_transforms = {\n",
    "    \"train\": transforms.Compose([\n",
    "    transforms.RandomResizedCrop(224),\n",
    "    transforms.RandomHorizontalFlip(),\n",
    "    transforms.ToTensor(),\n",
    "    transforms.Normalize(mean, std)\n",
    "    ]),\n",
    "    \"val\" : transforms.Compose([\n",
    "    transforms.Resize(224),\n",
    "    transforms.CenterCrop(224),\n",
    "    transforms.ToTensor(),\n",
    "    transforms.Normalize(mean, std)\n",
    "    ])\n",
    "}\n",
    "\n",
    "# import data\n",
    "data_dir = \"data\\\\hymenoptera_data\"\n",
    "sets = [\"train\", \"val\"]\n",
    "\n",
    "image_datasets = {x: datasets.ImageFolder(os.path.join(data_dir, x), data_transforms[x])\n",
    "                    for x in [\"train\", \"val\"]}\n",
    "\n",
    "dataloaders = {x: torch.utils.data.DataLoader(image_datasets[x], batch_size = 16, shuffle=True, num_workers =2)\n",
    "                    for x in [\"train\", \"val\"]}\n",
    "\n",
    "dataset_sizes = {i:len(image_datasets[i]) for i in [\"train\", \"val\"]}\n",
    "\n",
    "class_names = image_datasets[\"train\"].classes\n",
    "print(class_names)\n",
    "\n",
    "def train_model(model, criterion, optimizer, scheduler, num_epochs=25):\n",
    "    since = time.time()\n",
    "    \n",
    "    best_model_wts = copy.deepcopy(model.state_dict())\n",
    "    best_acc = 0.0\n",
    "\n",
    "    for epoch in range(num_epochs):\n",
    "        print(f\"Epoch {epoch+1}/{num_epochs}\")\n",
    "        print(\"-\" * 10)\n",
    "\n",
    "        #Each epoch has a training and validation phase\n",
    "        for phase in [\"train\", \"val\"]:\n",
    "            if phase == \"train\":\n",
    "                model.train() # set model in training mode\n",
    "            else:\n",
    "                model.eval() # set model in eval mode\n",
    "            \n",
    "            running_loss = 0.0\n",
    "            running_corrects = 0\n",
    "\n",
    "            # Iterate over data.\n",
    "            for inputs, labels in dataloaders[phase]:\n",
    "                inputs = inputs.to(device)\n",
    "                labels = labels.to(device)\n",
    "\n",
    "                # forward\n",
    "                # track history if only in train\n",
    "                with torch.set_grad_enabled(phase == \"train\"):\n",
    "                    outputs = model(inputs)\n",
    "                    _, preds = torch.max(outputs, 1)\n",
    "                    loss = criterion(outputs, labels)\n",
    "\n",
    "                    # backward +optimize only if in training phase\n",
    "                    if phase == \"train\":\n",
    "                        optimizer.zero_grad()\n",
    "                        loss.backward()\n",
    "                        optimizer.step()\n",
    "                \n",
    "                # statistics\n",
    "                running_loss += loss.item() * inputs.size(0)\n",
    "                running_corrects += torch.sum(preds == labels.data)\n",
    "            \n",
    "            if phase == \"train\":\n",
    "                scheduler.step()\n",
    "\n",
    "            epoch_loss = running_loss / dataset_sizes[phase]\n",
    "            epoch_acc = running_corrects.double() /dataset_sizes[phase]\n",
    "\n",
    "            print(f\"{phase} Loss: {epoch_loss:.4f} Acc: {epoch_acc:.4f}\")\n",
    "\n",
    "            # deep copy the model\n",
    "            if phase == \"val\" and epoch_acc > best_acc:\n",
    "                best_acc = epoch_acc\n",
    "                best_model_wts = copy.deepcopy(model.state_dict())\n",
    "    \n",
    "        print()\n",
    "\n",
    "    time_elapsed = time.time() - since\n",
    "    print(f\"Training complete in {time_elapsed//60:.0f}m {time_elapsed%60:.0f}s\")\n",
    "    print(f\"Best val Acc: {best_acc:.4f}\")\n",
    "\n",
    "    #load best model weights\n",
    "    model.load_state_dict(best_model_wts)\n",
    "    return model\n"
   ]
  },
  {
   "cell_type": "markdown",
   "metadata": {},
   "source": [
    "### Retrain pre-trained network with a different last layer depending on task"
   ]
  },
  {
   "cell_type": "code",
   "execution_count": 34,
   "metadata": {},
   "outputs": [
    {
     "name": "stdout",
     "output_type": "stream",
     "text": [
      "Epoch 1/20\n",
      "----------\n",
      "train Loss: 0.6694 Acc: 0.5779\n",
      "val Loss: 0.6027 Acc: 0.7190\n",
      "\n",
      "Epoch 2/20\n",
      "----------\n",
      "train Loss: 0.6039 Acc: 0.6885\n",
      "val Loss: 0.5183 Acc: 0.8039\n",
      "\n",
      "Epoch 3/20\n",
      "----------\n",
      "train Loss: 0.5110 Acc: 0.7992\n",
      "val Loss: 0.4785 Acc: 0.8170\n",
      "\n",
      "Epoch 4/20\n",
      "----------\n",
      "train Loss: 0.4782 Acc: 0.7992\n",
      "val Loss: 0.4234 Acc: 0.8824\n",
      "\n",
      "Epoch 5/20\n",
      "----------\n",
      "train Loss: 0.4142 Acc: 0.8525\n",
      "val Loss: 0.3858 Acc: 0.8954\n",
      "\n",
      "Epoch 6/20\n",
      "----------\n",
      "train Loss: 0.4000 Acc: 0.8689\n",
      "val Loss: 0.3478 Acc: 0.9216\n",
      "\n",
      "Epoch 7/20\n",
      "----------\n",
      "train Loss: 0.3517 Acc: 0.8770\n",
      "val Loss: 0.3385 Acc: 0.9020\n",
      "\n",
      "Epoch 8/20\n",
      "----------\n",
      "train Loss: 0.3746 Acc: 0.8566\n",
      "val Loss: 0.3374 Acc: 0.9020\n",
      "\n",
      "Epoch 9/20\n",
      "----------\n",
      "train Loss: 0.3554 Acc: 0.8852\n",
      "val Loss: 0.3306 Acc: 0.9150\n",
      "\n",
      "Epoch 10/20\n",
      "----------\n",
      "train Loss: 0.3688 Acc: 0.8566\n",
      "val Loss: 0.3367 Acc: 0.9085\n",
      "\n",
      "Epoch 11/20\n",
      "----------\n",
      "train Loss: 0.3381 Acc: 0.9221\n",
      "val Loss: 0.3391 Acc: 0.8954\n",
      "\n",
      "Epoch 12/20\n",
      "----------\n",
      "train Loss: 0.3273 Acc: 0.9139\n",
      "val Loss: 0.3259 Acc: 0.9020\n",
      "\n",
      "Epoch 13/20\n",
      "----------\n",
      "train Loss: 0.3439 Acc: 0.8852\n",
      "val Loss: 0.3206 Acc: 0.9085\n",
      "\n",
      "Epoch 14/20\n",
      "----------\n",
      "train Loss: 0.3298 Acc: 0.9098\n",
      "val Loss: 0.3178 Acc: 0.9150\n",
      "\n",
      "Epoch 15/20\n",
      "----------\n",
      "train Loss: 0.3523 Acc: 0.8852\n",
      "val Loss: 0.3209 Acc: 0.9020\n",
      "\n",
      "Epoch 16/20\n",
      "----------\n",
      "train Loss: 0.3562 Acc: 0.8525\n",
      "val Loss: 0.3218 Acc: 0.9020\n",
      "\n",
      "Epoch 17/20\n",
      "----------\n",
      "train Loss: 0.3170 Acc: 0.9139\n",
      "val Loss: 0.3223 Acc: 0.9085\n",
      "\n",
      "Epoch 18/20\n",
      "----------\n",
      "train Loss: 0.3527 Acc: 0.8934\n",
      "val Loss: 0.3226 Acc: 0.9216\n",
      "\n",
      "Epoch 19/20\n",
      "----------\n",
      "train Loss: 0.3645 Acc: 0.8689\n",
      "val Loss: 0.3280 Acc: 0.8954\n",
      "\n",
      "Epoch 20/20\n",
      "----------\n",
      "train Loss: 0.3473 Acc: 0.8730\n",
      "val Loss: 0.3204 Acc: 0.9150\n",
      "\n",
      "Training complete in 3m 57s\n",
      "Best val Acc: 0.9216\n"
     ]
    }
   ],
   "source": [
    "model = models.resnet18(pretrained=True)\n",
    "num_ftrs = model.fc.in_features\n",
    "\n",
    "model.fc = nn.Linear(num_ftrs, 2)\n",
    "model.to(device)\n",
    "\n",
    "criterion = nn.CrossEntropyLoss()\n",
    "optimizer = optim.SGD(model.parameters(), lr=0.001)\n",
    "\n",
    "# scheduler\n",
    "\n",
    "step_lr_scheduler = lr_scheduler.StepLR(optimizer, step_size=7, gamma=0.1)\n",
    "model = train_model(model, criterion, optimizer, step_lr_scheduler, num_epochs=20)"
   ]
  },
  {
   "cell_type": "markdown",
   "metadata": {},
   "source": [
    "### Use pretrained network with all layers frozen, re-train only last layer"
   ]
  },
  {
   "cell_type": "code",
   "execution_count": 36,
   "metadata": {},
   "outputs": [
    {
     "name": "stdout",
     "output_type": "stream",
     "text": [
      "Epoch 1/20\n",
      "----------\n",
      "train Loss: 0.7438 Acc: 0.5533\n",
      "val Loss: 0.6388 Acc: 0.6078\n",
      "\n",
      "Epoch 2/20\n",
      "----------\n",
      "train Loss: 0.6129 Acc: 0.6885\n",
      "val Loss: 0.5633 Acc: 0.6863\n",
      "\n",
      "Epoch 3/20\n",
      "----------\n",
      "train Loss: 0.5677 Acc: 0.7213\n",
      "val Loss: 0.5464 Acc: 0.6993\n",
      "\n",
      "Epoch 4/20\n",
      "----------\n",
      "train Loss: 0.5406 Acc: 0.7459\n",
      "val Loss: 0.5000 Acc: 0.7451\n",
      "\n",
      "Epoch 5/20\n",
      "----------\n",
      "train Loss: 0.5115 Acc: 0.7705\n",
      "val Loss: 0.4883 Acc: 0.7712\n",
      "\n",
      "Epoch 6/20\n",
      "----------\n",
      "train Loss: 0.5079 Acc: 0.7582\n",
      "val Loss: 0.4407 Acc: 0.8235\n",
      "\n",
      "Epoch 7/20\n",
      "----------\n",
      "train Loss: 0.4782 Acc: 0.8156\n",
      "val Loss: 0.4294 Acc: 0.8301\n",
      "\n",
      "Epoch 8/20\n",
      "----------\n",
      "train Loss: 0.4599 Acc: 0.8156\n",
      "val Loss: 0.4217 Acc: 0.8627\n",
      "\n",
      "Epoch 9/20\n",
      "----------\n",
      "train Loss: 0.4530 Acc: 0.8238\n",
      "val Loss: 0.4211 Acc: 0.8758\n",
      "\n",
      "Epoch 10/20\n",
      "----------\n",
      "train Loss: 0.4484 Acc: 0.8115\n",
      "val Loss: 0.4102 Acc: 0.8693\n",
      "\n",
      "Epoch 11/20\n",
      "----------\n",
      "train Loss: 0.4513 Acc: 0.8197\n",
      "val Loss: 0.4078 Acc: 0.8693\n",
      "\n",
      "Epoch 12/20\n",
      "----------\n",
      "train Loss: 0.4223 Acc: 0.8484\n",
      "val Loss: 0.4072 Acc: 0.8824\n",
      "\n",
      "Epoch 13/20\n",
      "----------\n",
      "train Loss: 0.4350 Acc: 0.8443\n",
      "val Loss: 0.4074 Acc: 0.8693\n",
      "\n",
      "Epoch 14/20\n",
      "----------\n",
      "train Loss: 0.4201 Acc: 0.8607\n",
      "val Loss: 0.4030 Acc: 0.8627\n",
      "\n",
      "Epoch 15/20\n",
      "----------\n",
      "train Loss: 0.4445 Acc: 0.8197\n",
      "val Loss: 0.4048 Acc: 0.8758\n",
      "\n",
      "Epoch 16/20\n",
      "----------\n",
      "train Loss: 0.4193 Acc: 0.8525\n",
      "val Loss: 0.3938 Acc: 0.9020\n",
      "\n",
      "Epoch 17/20\n",
      "----------\n",
      "train Loss: 0.4374 Acc: 0.8443\n",
      "val Loss: 0.3984 Acc: 0.8889\n",
      "\n",
      "Epoch 18/20\n",
      "----------\n",
      "train Loss: 0.4409 Acc: 0.8238\n",
      "val Loss: 0.4026 Acc: 0.8824\n",
      "\n",
      "Epoch 19/20\n",
      "----------\n",
      "train Loss: 0.4263 Acc: 0.8361\n",
      "val Loss: 0.3999 Acc: 0.8824\n",
      "\n",
      "Epoch 20/20\n",
      "----------\n",
      "train Loss: 0.4117 Acc: 0.8770\n",
      "val Loss: 0.4050 Acc: 0.8824\n",
      "\n",
      "Training complete in 3m 24s\n",
      "Best val Acc: 0.9020\n"
     ]
    }
   ],
   "source": [
    "model = models.resnet18(pretrained=True)\n",
    "for param in model.parameters():\n",
    "    param.requires_grad = False\n",
    "    \n",
    "num_ftrs = model.fc.in_features\n",
    "\n",
    "model.fc = nn.Linear(num_ftrs, 2)\n",
    "model.to(device)\n",
    "\n",
    "criterion = nn.CrossEntropyLoss()\n",
    "optimizer = optim.SGD(model.parameters(), lr=0.001)\n",
    "\n",
    "# scheduler\n",
    "\n",
    "step_lr_scheduler = lr_scheduler.StepLR(optimizer, step_size=7, gamma=0.1)\n",
    "model = train_model(model, criterion, optimizer, step_lr_scheduler, num_epochs=20)"
   ]
  },
  {
   "cell_type": "markdown",
   "metadata": {},
   "source": [
    "## PyTorch Tutorial 16 - How to Use the TensorBoard"
   ]
  },
  {
   "cell_type": "markdown",
   "metadata": {},
   "source": [
    "### Reusing the code from tutorial 13"
   ]
  },
  {
   "cell_type": "code",
   "execution_count": 14,
   "metadata": {},
   "outputs": [
    {
     "name": "stdout",
     "output_type": "stream",
     "text": [
      "torch.Size([100, 1, 28, 28]) torch.Size([100])\n"
     ]
    },
    {
     "data": {
      "image/png": "[encoded data removed]",
      "text/plain": [
       "<Figure size 432x288 with 6 Axes>"
      ]
     },
     "metadata": {
      "needs_background": "light"
     },
     "output_type": "display_data"
    }
   ],
   "source": [
    "import torch\n",
    "import torch.nn as nn\n",
    "import torch.nn.functional as F\n",
    "import torchvision\n",
    "import torchvision.transforms as transforms\n",
    "import matplotlib.pyplot as plt\n",
    "import sys\n",
    "from torch.utils.tensorboard import SummaryWriter\n",
    "\n",
    "writer = SummaryWriter(\"runs\\\\mnist\")\n",
    "\n",
    "# device config\n",
    "device = torch.device(\"cuda\" if torch.cuda.is_available() else \"cpu\")\n",
    "\n",
    "# hyper parameters\n",
    "input_size = 784 # 28x28\n",
    "hidden_size = 100\n",
    "num_classes = 10\n",
    "num_epochs = 2\n",
    "batch_size = 100\n",
    "learning_rate = 0.001\n",
    "\n",
    "# import the dataset\n",
    "train_dataset = torchvision.datasets.MNIST(root = \"./data/mnist/MNIST/\", train=True, transform=transforms.ToTensor(), download=True)\n",
    "test_dataset = torchvision.datasets.MNIST(root = \"./data/mnist/MNIST/\", train=False, transform=transforms.ToTensor())\n",
    "\n",
    "# data loaders\n",
    "train_loader = torch.utils.data.DataLoader(dataset = train_dataset, batch_size=batch_size, shuffle=True)\n",
    "test_loader = torch.utils.data.DataLoader(dataset = test_dataset, batch_size=batch_size, shuffle=False)\n",
    "\n",
    "examples = iter(train_loader)\n",
    "samples, labels = examples.next()\n",
    "print(samples.shape, labels.shape)\n",
    "\n",
    "for i in range(6):\n",
    "    plt.subplot(2, 3, i+1)\n",
    "    plt.imshow(samples[i][0], cmap=\"gray\")\n",
    "#plt.show()\n",
    "img_grid = torchvision.utils.make_grid(samples)\n",
    "writer.add_image(\"mnist_images\", img_grid)\n",
    "#sys.exit()"
   ]
  },
  {
   "cell_type": "code",
   "execution_count": 12,
   "metadata": {},
   "outputs": [
    {
     "name": "stdout",
     "output_type": "stream",
     "text": [
      "epoch 1 / 2, step 100/600, loss = 0.4242\n",
      "epoch 1 / 2, step 200/600, loss = 0.3922\n",
      "epoch 1 / 2, step 300/600, loss = 0.2741\n",
      "epoch 1 / 2, step 400/600, loss = 0.3091\n",
      "epoch 1 / 2, step 500/600, loss = 0.1880\n",
      "epoch 1 / 2, step 600/600, loss = 0.1091\n",
      "epoch 2 / 2, step 100/600, loss = 0.1418\n",
      "epoch 2 / 2, step 200/600, loss = 0.1762\n",
      "epoch 2 / 2, step 300/600, loss = 0.2061\n",
      "epoch 2 / 2, step 400/600, loss = 0.0714\n",
      "epoch 2 / 2, step 500/600, loss = 0.1001\n",
      "epoch 2 / 2, step 600/600, loss = 0.1255\n"
     ]
    }
   ],
   "source": [
    "class NeuralNet(nn.Module):\n",
    "    def __init__(self, input_size, hidden_size, output_size):\n",
    "        super(NeuralNet, self).__init__()\n",
    "        self.linear1 = nn.Linear(input_size, hidden_size)\n",
    "        self.leaky_relu = nn.LeakyReLU()\n",
    "        self.linear2 = nn.Linear(hidden_size, hidden_size)\n",
    "        self.linear3 = nn.Linear(hidden_size, output_size)\n",
    "\n",
    "    def forward(self,x):\n",
    "        # because we are using crossentropy loss we dont need to define\n",
    "        # a last layer activation function because it is applied automatically\n",
    "        out = self.linear1(x)\n",
    "        out = self.leaky_relu(out)\n",
    "        out = self.linear2(out)\n",
    "        out = self.leaky_relu(out)\n",
    "        out = self.linear3(out)\n",
    "        return out\n",
    "\n",
    "model = NeuralNet(input_size, hidden_size, output_size=num_classes).to(device)\n",
    "\n",
    "# loss and optimizer\n",
    "criterion = nn.CrossEntropyLoss()\n",
    "optimizer = torch.optim.Adam(model.parameters(), lr=learning_rate)\n",
    "\n",
    "writer.add_graph(model, samples.reshape(-1,28*28).to(device))\n",
    "\n",
    "# training loop\n",
    "\n",
    "n_total_steps = len(train_loader)\n",
    "running_loss = 0.0\n",
    "running_correct = 0\n",
    "\n",
    "for epoch in range(num_epochs):\n",
    "    for i, (images, labels) in enumerate(train_loader):\n",
    "        # 100 x 1 x 28 x 28 -> 100 x 784\n",
    "        images = images.reshape(-1, 28*28).to(device)\n",
    "        labels = labels.to(device)\n",
    "\n",
    "        # forward\n",
    "        outputs = model(images)\n",
    "        loss = criterion(outputs, labels)\n",
    "\n",
    "        # backward\n",
    "        optimizer.zero_grad()\n",
    "        loss.backward()\n",
    "        optimizer.step()\n",
    "\n",
    "        running_loss += loss.item()\n",
    "        _, predicted = torch.max(outputs.data, 1)\n",
    "        running_correct += (predicted == labels).sum().item()\n",
    "\n",
    "        if (i+1) % 100 == 0:\n",
    "            print(f\"epoch {epoch+1} / {num_epochs}, step {i+1}/{n_total_steps}, loss = {loss.item():.4f}\")\n",
    "            writer.add_scalar(\"training loss\", running_loss / 100, epoch * n_total_steps + i)\n",
    "            writer.add_scalar(\"accuracy\", running_correct / 100, epoch * n_total_steps + i)\n",
    "            running_loss = 0.0\n",
    "            running_correct = 0"
   ]
  },
  {
   "cell_type": "code",
   "execution_count": 16,
   "metadata": {},
   "outputs": [
    {
     "name": "stdout",
     "output_type": "stream",
     "text": [
      "accuracy = 96.35\n"
     ]
    }
   ],
   "source": [
    "# val\n",
    "labels = []\n",
    "preds = []\n",
    "with torch.no_grad():\n",
    "    n_correct = 0\n",
    "    n_samples = 0\n",
    "    for images, val_labels in test_loader:\n",
    "        images = images.reshape(-1, 28*28).to(device)\n",
    "        val_labels = val_labels.to(device)\n",
    "        outputs = model(images)\n",
    "\n",
    "        #value, index\n",
    "        _, predicted = torch.max(outputs.data, 1)\n",
    "        n_samples += val_labels.shape[0]\n",
    "        n_correct += (predicted == val_labels).sum().item()\n",
    "        class_predictions = [F.softmax(output, dim=0) for output in outputs]\n",
    "\n",
    "        preds.append(class_predictions)\n",
    "        labels.append(predicted)\n",
    "    \n",
    "    preds = torch.cat([torch.stack(batch) for batch in preds])\n",
    "    labels = torch.cat(labels)\n",
    "\n",
    "    acc = 100.0 * n_correct / n_samples\n",
    "    print(f\"accuracy = {acc}\")\n",
    "\n",
    "    classes = range(10)\n",
    "    for i in classes:\n",
    "        labels_i = labels == i\n",
    "        preds_i = preds[:, i]\n",
    "        writer.add_pr_curve(str(i), labels_i, preds_i, global_step=0)\n",
    "        writer.close()"
   ]
  },
  {
   "cell_type": "markdown",
   "metadata": {},
   "source": [
    "## PyTorch Tutorial 17 - Saving and Loading Models"
   ]
  },
  {
   "cell_type": "code",
   "execution_count": null,
   "metadata": {},
   "outputs": [],
   "source": [
    "import torch\n",
    "import torch.nn as nn\n",
    "\n",
    "PATH = \"models\\\\\"\n",
    "model = ConvNet().to(device)\n",
    "args = model.parameters()"
   ]
  },
  {
   "cell_type": "markdown",
   "metadata": {},
   "source": [
    "### Save entire model, along with weights"
   ]
  },
  {
   "cell_type": "code",
   "execution_count": null,
   "metadata": {},
   "outputs": [],
   "source": [
    "## Complete model\n",
    "torch.save(model, PATH) # can save tensors, models or dicts (uses pickle to serialize objects)\n",
    "\n",
    "# model class must be defined somwhere\n",
    "model = torch.load(PATH)\n",
    "model.eval()"
   ]
  },
  {
   "cell_type": "markdown",
   "metadata": {},
   "source": [
    "### Save only model weights (recommended way of saving)"
   ]
  },
  {
   "cell_type": "code",
   "execution_count": null,
   "metadata": {},
   "outputs": [],
   "source": [
    "# State dict\n",
    "torch.save(model.state_dict(), PATH)\n",
    "\n",
    "#model must be created again with same architecture\n",
    "model = NeuralNet(*args)\n",
    "model.load_state_dict(torch.load(PATH))\n",
    "model.eval()"
   ]
  },
  {
   "cell_type": "markdown",
   "metadata": {},
   "source": [
    "### Running this will actually save the model"
   ]
  },
  {
   "cell_type": "code",
   "execution_count": null,
   "metadata": {},
   "outputs": [],
   "source": [
    "FILE= \"models/model.pth\"\n",
    "#################################\n",
    "# LAZY WAY\n",
    "# lazy_save(model, FILE)\n",
    "# model = lazy_load(FILE)\n",
    "# model.eval()\n",
    "#for param in model.parameters():\n",
    "#    print(param)\n",
    "#################################\n",
    "\n",
    "#################################\n",
    "# PROPER WAY\n",
    "torch.save(model.state_dict(), FILE)\n",
    "loaded_model = Model(n_input_features=16, n_hidden=8)\n",
    "loaded_model.load_state_dict(torch.load(FILE))\n",
    "loaded_model.eval()\n",
    "#################################\n",
    "for param in loaded_model.parameters():\n",
    "    print(param)"
   ]
  },
  {
   "cell_type": "markdown",
   "metadata": {},
   "source": [
    "### Practical example"
   ]
  },
  {
   "cell_type": "code",
   "execution_count": 23,
   "metadata": {},
   "outputs": [
    {
     "name": "stdout",
     "output_type": "stream",
     "text": [
      "{'state': {}, 'param_groups': [{'lr': 0.01, 'momentum': 0, 'dampening': 0, 'weight_decay': 0, 'nesterov': False, 'maximize': False, 'params': [0, 1, 2, 3, 4, 5]}]}\n"
     ]
    }
   ],
   "source": [
    "class Model(nn.Module):\n",
    "    def __init__(self, n_input_features, n_hidden):\n",
    "        super(Model, self).__init__()\n",
    "        self.model = nn.Sequential(\n",
    "            nn.ReLU(nn.Linear(n_input_features, n_hidden)),\n",
    "            nn.ReLU(nn.Linear(n_hidden, n_hidden)),\n",
    "            nn.Linear(n_hidden, 1),\n",
    "            nn.Sigmoid()\n",
    "        )\n",
    "    \n",
    "    def forward(self, x):\n",
    "        return self.model(x)\n",
    "\n",
    "def lazy_save(model, FILE):\n",
    "    torch.save(model, FILE)\n",
    "\n",
    "def lazy_load(FILE):\n",
    "    torch.load(FILE)\n",
    "\n",
    "def proper_save(model, FILE):\n",
    "    torch.save(model.state_dict(), FILE)\n",
    "\n",
    "\n",
    "model = Model(n_input_features=16, n_hidden=8)\n",
    "\n",
    "# train model...\n",
    "learning_rate = 0.01\n",
    "optimizer = torch.optim.SGD(model.parameters(), lr=learning_rate)\n",
    "print(optimizer.state_dict())\n",
    "checkpoint_path = \"models\\\\checkpoints\\\\\"\n",
    "checkpoint = {\n",
    "    \"epoch\": 90,\n",
    "    \"model_state\": model.state_dict(),\n",
    "    \"optim_state\": optimizer.state_dict()\n",
    "}\n",
    "torch.save(checkpoint, os.path.join(checkpoint_path,\"checkpoint.pth\"))\n",
    "\n",
    "loaded_checkpoint = torch.load(os.path.join(checkpoint_path,\"checkpoint.pth\"))\n",
    "epoch = loaded_checkpoint[\"epoch\"]\n",
    "\n",
    "model = Model(n_input_features=16, n_hidden=8)\n",
    "optimizer = optim.SGD(model._parameters(), lr=learning_rate)\n",
    "\n",
    "model.load_state_dict(checkpoint[\"model_state\"])\n",
    "optimizer.load_state_dict(checkpoint[\"optim_state\"])\n",
    "\n",
    "print(optimizer.state_dict())"
   ]
  },
  {
   "cell_type": "markdown",
   "metadata": {},
   "source": [
    "## Pytorch Tutorial 18: Learning rate Scheduler"
   ]
  },
  {
   "cell_type": "code",
   "execution_count": null,
   "metadata": {},
   "outputs": [],
   "source": []
  }
 ],
 "metadata": {
  "kernelspec": {
   "display_name": "Python 3.9.6 ('base')",
   "language": "python",
   "name": "python3"
  },
  "language_info": {
   "codemirror_mode": {
    "name": "ipython",
    "version": 3
   },
   "file_extension": ".py",
   "mimetype": "text/x-python",
   "name": "python",
   "nbconvert_exporter": "python",
   "pygments_lexer": "ipython3",
   "version": "3.9.6 | packaged by conda-forge | (default, Jul 11 2021, 03:37:25) [MSC v.1916 64 bit (AMD64)]"
  },
  "orig_nbformat": 4,
  "vscode": {
   "interpreter": {
    "hash": "d5b56a78e3e75a120fd5f35cf8efed775b2ff68e364aa87bad3970e34a65f885"
   }
  }
 },
 "nbformat": 4,
 "nbformat_minor": 2
}
